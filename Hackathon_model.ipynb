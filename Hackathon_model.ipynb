{
 "cells": [
  {
   "cell_type": "code",
   "execution_count": 1,
   "id": "d98bdb3f-3460-436e-9ad0-a0cfbf628546",
   "metadata": {
    "tags": []
   },
   "outputs": [],
   "source": [
    "from quantrocket.license import set_license"
   ]
  },
  {
   "cell_type": "code",
   "execution_count": 2,
   "id": "998bd01c-0e0b-4d1b-a0cc-41e8e1348e3d",
   "metadata": {
    "tags": []
   },
   "outputs": [
    {
     "data": {
      "text/plain": [
       "{'status': 'deleted quantrocket.v2.history.usstock-free-1d.sqlite'}"
      ]
     },
     "execution_count": 2,
     "metadata": {},
     "output_type": "execute_result"
    }
   ],
   "source": [
    "from quantrocket.history import drop_db\n",
    "drop_db(\"usstock-free-1d\", confirm_by_typing_db_code_again=\"usstock-free-1d\")"
   ]
  },
  {
   "cell_type": "code",
   "execution_count": 3,
   "id": "c8603d35-2614-435f-be35-bfbd8e98b3c1",
   "metadata": {
    "tags": []
   },
   "outputs": [
    {
     "data": {
      "text/plain": [
       "{'licensekey': '7e0f........a339', 'software_license': {}}"
      ]
     },
     "execution_count": 3,
     "metadata": {},
     "output_type": "execute_result"
    }
   ],
   "source": [
    "set_license(\"7e0fc4b6-deed-11ee-bdbc-e55510e7a339\")"
   ]
  },
  {
   "cell_type": "code",
   "execution_count": 4,
   "id": "ef8b9076-4981-48ae-bc65-dcac9399c0c6",
   "metadata": {
    "tags": []
   },
   "outputs": [
    {
     "data": {
      "text/plain": [
       "{'licensekey': '7e0f........a339', 'software_license': {}}"
      ]
     },
     "execution_count": 4,
     "metadata": {},
     "output_type": "execute_result"
    }
   ],
   "source": [
    "from quantrocket.license import get_license_profile\n",
    "get_license_profile(force_refresh=True)"
   ]
  },
  {
   "cell_type": "code",
   "execution_count": null,
   "id": "04f40c07-249a-4fc2-982a-7605f478afc6",
   "metadata": {
    "tags": []
   },
   "outputs": [],
   "source": [
    "!quantrocket license get --force-refresh"
   ]
  },
  {
   "cell_type": "markdown",
   "id": "2cdf5e6a-2f03-4028-b45b-12e61fd2f03e",
   "metadata": {},
   "source": [
    "**Getting the dataset and preprocessing**"
   ]
  },
  {
   "cell_type": "code",
   "execution_count": 6,
   "id": "d08bb0a4-9ace-4eee-b534-2c088df3745d",
   "metadata": {
    "tags": []
   },
   "outputs": [
    {
     "data": {
      "text/plain": [
       "{'status': 'successfully created quantrocket.v2.history.usstock-free-1d.sqlite'}"
      ]
     },
     "execution_count": 6,
     "metadata": {},
     "output_type": "execute_result"
    }
   ],
   "source": [
    "from quantrocket.history import create_usstock_db\n",
    "create_usstock_db(\"usstock-free-1d\", bar_size=\"1 day\", free=True)"
   ]
  },
  {
   "cell_type": "code",
   "execution_count": 7,
   "id": "4e755280-6333-4f65-b3a2-a2094d6a85ae",
   "metadata": {
    "tags": []
   },
   "outputs": [
    {
     "data": {
      "text/plain": [
       "{'status': 'the historical data will be collected asynchronously'}"
      ]
     },
     "execution_count": 7,
     "metadata": {},
     "output_type": "execute_result"
    }
   ],
   "source": [
    "from quantrocket.history import collect_history\n",
    "collect_history(\"usstock-free-1d\")"
   ]
  },
  {
   "cell_type": "code",
   "execution_count": 8,
   "id": "444f72cb-e352-4ae3-91b7-017326f4a847",
   "metadata": {
    "tags": []
   },
   "outputs": [
    {
     "data": {
      "text/html": [
       "<div>\n",
       "<style scoped>\n",
       "    .dataframe tbody tr th:only-of-type {\n",
       "        vertical-align: middle;\n",
       "    }\n",
       "\n",
       "    .dataframe tbody tr th {\n",
       "        vertical-align: top;\n",
       "    }\n",
       "\n",
       "    .dataframe thead th {\n",
       "        text-align: right;\n",
       "    }\n",
       "</style>\n",
       "<table border=\"1\" class=\"dataframe\">\n",
       "  <thead>\n",
       "    <tr style=\"text-align: right;\">\n",
       "      <th></th>\n",
       "      <th>Symbol</th>\n",
       "      <th>Exchange</th>\n",
       "      <th>Country</th>\n",
       "      <th>Currency</th>\n",
       "      <th>SecType</th>\n",
       "      <th>Etf</th>\n",
       "      <th>Timezone</th>\n",
       "      <th>Name</th>\n",
       "      <th>PriceMagnifier</th>\n",
       "      <th>Multiplier</th>\n",
       "      <th>Delisted</th>\n",
       "      <th>DateDelisted</th>\n",
       "      <th>LastTradeDate</th>\n",
       "      <th>RolloverDate</th>\n",
       "    </tr>\n",
       "    <tr>\n",
       "      <th>Sid</th>\n",
       "      <th></th>\n",
       "      <th></th>\n",
       "      <th></th>\n",
       "      <th></th>\n",
       "      <th></th>\n",
       "      <th></th>\n",
       "      <th></th>\n",
       "      <th></th>\n",
       "      <th></th>\n",
       "      <th></th>\n",
       "      <th></th>\n",
       "      <th></th>\n",
       "      <th></th>\n",
       "      <th></th>\n",
       "    </tr>\n",
       "  </thead>\n",
       "  <tbody>\n",
       "    <tr>\n",
       "      <th>FIBBG000B9XRY4</th>\n",
       "      <td>AAPL</td>\n",
       "      <td>XNAS</td>\n",
       "      <td>US</td>\n",
       "      <td>USD</td>\n",
       "      <td>STK</td>\n",
       "      <td>False</td>\n",
       "      <td>America/New_York</td>\n",
       "      <td>APPLE INC</td>\n",
       "      <td>1</td>\n",
       "      <td>1</td>\n",
       "      <td>False</td>\n",
       "      <td>NaT</td>\n",
       "      <td>NaT</td>\n",
       "      <td>NaT</td>\n",
       "    </tr>\n",
       "    <tr>\n",
       "      <th>FIBBG000BFWKC0</th>\n",
       "      <td>MON</td>\n",
       "      <td>XNYS</td>\n",
       "      <td>US</td>\n",
       "      <td>USD</td>\n",
       "      <td>STK</td>\n",
       "      <td>False</td>\n",
       "      <td>America/New_York</td>\n",
       "      <td>MONSANTO CO</td>\n",
       "      <td>1</td>\n",
       "      <td>1</td>\n",
       "      <td>True</td>\n",
       "      <td>2018-06-06</td>\n",
       "      <td>NaT</td>\n",
       "      <td>NaT</td>\n",
       "    </tr>\n",
       "    <tr>\n",
       "      <th>FIBBG000BKZB36</th>\n",
       "      <td>HD</td>\n",
       "      <td>XNYS</td>\n",
       "      <td>US</td>\n",
       "      <td>USD</td>\n",
       "      <td>STK</td>\n",
       "      <td>False</td>\n",
       "      <td>America/New_York</td>\n",
       "      <td>HOME DEPOT INC</td>\n",
       "      <td>1</td>\n",
       "      <td>1</td>\n",
       "      <td>False</td>\n",
       "      <td>NaT</td>\n",
       "      <td>NaT</td>\n",
       "      <td>NaT</td>\n",
       "    </tr>\n",
       "    <tr>\n",
       "      <th>FIBBG000BMHYD1</th>\n",
       "      <td>JNJ</td>\n",
       "      <td>XNYS</td>\n",
       "      <td>US</td>\n",
       "      <td>USD</td>\n",
       "      <td>STK</td>\n",
       "      <td>False</td>\n",
       "      <td>America/New_York</td>\n",
       "      <td>JOHNSON &amp; JOHNSON</td>\n",
       "      <td>1</td>\n",
       "      <td>1</td>\n",
       "      <td>False</td>\n",
       "      <td>NaT</td>\n",
       "      <td>NaT</td>\n",
       "      <td>NaT</td>\n",
       "    </tr>\n",
       "    <tr>\n",
       "      <th>FIBBG000BPH459</th>\n",
       "      <td>MSFT</td>\n",
       "      <td>XNAS</td>\n",
       "      <td>US</td>\n",
       "      <td>USD</td>\n",
       "      <td>STK</td>\n",
       "      <td>False</td>\n",
       "      <td>America/New_York</td>\n",
       "      <td>MICROSOFT CORP</td>\n",
       "      <td>1</td>\n",
       "      <td>1</td>\n",
       "      <td>False</td>\n",
       "      <td>NaT</td>\n",
       "      <td>NaT</td>\n",
       "      <td>NaT</td>\n",
       "    </tr>\n",
       "  </tbody>\n",
       "</table>\n",
       "</div>"
      ],
      "text/plain": [
       "               Symbol Exchange Country Currency SecType    Etf  \\\n",
       "Sid                                                              \n",
       "FIBBG000B9XRY4   AAPL     XNAS      US      USD     STK  False   \n",
       "FIBBG000BFWKC0    MON     XNYS      US      USD     STK  False   \n",
       "FIBBG000BKZB36     HD     XNYS      US      USD     STK  False   \n",
       "FIBBG000BMHYD1    JNJ     XNYS      US      USD     STK  False   \n",
       "FIBBG000BPH459   MSFT     XNAS      US      USD     STK  False   \n",
       "\n",
       "                        Timezone               Name  PriceMagnifier  \\\n",
       "Sid                                                                   \n",
       "FIBBG000B9XRY4  America/New_York          APPLE INC               1   \n",
       "FIBBG000BFWKC0  America/New_York        MONSANTO CO               1   \n",
       "FIBBG000BKZB36  America/New_York     HOME DEPOT INC               1   \n",
       "FIBBG000BMHYD1  America/New_York  JOHNSON & JOHNSON               1   \n",
       "FIBBG000BPH459  America/New_York     MICROSOFT CORP               1   \n",
       "\n",
       "                Multiplier  Delisted DateDelisted LastTradeDate RolloverDate  \n",
       "Sid                                                                           \n",
       "FIBBG000B9XRY4           1     False          NaT           NaT          NaT  \n",
       "FIBBG000BFWKC0           1      True   2018-06-06           NaT          NaT  \n",
       "FIBBG000BKZB36           1     False          NaT           NaT          NaT  \n",
       "FIBBG000BMHYD1           1     False          NaT           NaT          NaT  \n",
       "FIBBG000BPH459           1     False          NaT           NaT          NaT  "
      ]
     },
     "execution_count": 8,
     "metadata": {},
     "output_type": "execute_result"
    }
   ],
   "source": [
    "from quantrocket.master import get_securities\n",
    "securities = get_securities(vendors=\"usstock\", sec_types=\"STK\")\n",
    "securities.head()"
   ]
  },
  {
   "cell_type": "code",
   "execution_count": 21,
   "id": "b38d8ee3-14e0-44b4-9f9c-fb24292d2c4e",
   "metadata": {
    "tags": []
   },
   "outputs": [
    {
     "data": {
      "text/html": [
       "<div>\n",
       "<style scoped>\n",
       "    .dataframe tbody tr th:only-of-type {\n",
       "        vertical-align: middle;\n",
       "    }\n",
       "\n",
       "    .dataframe tbody tr th {\n",
       "        vertical-align: top;\n",
       "    }\n",
       "\n",
       "    .dataframe thead th {\n",
       "        text-align: right;\n",
       "    }\n",
       "</style>\n",
       "<table border=\"1\" class=\"dataframe\">\n",
       "  <thead>\n",
       "    <tr style=\"text-align: right;\">\n",
       "      <th></th>\n",
       "      <th>Symbol</th>\n",
       "      <th>Exchange</th>\n",
       "      <th>Name</th>\n",
       "      <th>Delisted</th>\n",
       "    </tr>\n",
       "    <tr>\n",
       "      <th>Sid</th>\n",
       "      <th></th>\n",
       "      <th></th>\n",
       "      <th></th>\n",
       "      <th></th>\n",
       "    </tr>\n",
       "  </thead>\n",
       "  <tbody>\n",
       "    <tr>\n",
       "      <th>FIBBG000B9XRY4</th>\n",
       "      <td>AAPL</td>\n",
       "      <td>XNAS</td>\n",
       "      <td>APPLE INC</td>\n",
       "      <td>False</td>\n",
       "    </tr>\n",
       "    <tr>\n",
       "      <th>FIBBG000BKZB36</th>\n",
       "      <td>HD</td>\n",
       "      <td>XNYS</td>\n",
       "      <td>HOME DEPOT INC</td>\n",
       "      <td>False</td>\n",
       "    </tr>\n",
       "    <tr>\n",
       "      <th>FIBBG000BMHYD1</th>\n",
       "      <td>JNJ</td>\n",
       "      <td>XNYS</td>\n",
       "      <td>JOHNSON &amp; JOHNSON</td>\n",
       "      <td>False</td>\n",
       "    </tr>\n",
       "    <tr>\n",
       "      <th>FIBBG000BPH459</th>\n",
       "      <td>MSFT</td>\n",
       "      <td>XNAS</td>\n",
       "      <td>MICROSOFT CORP</td>\n",
       "      <td>False</td>\n",
       "    </tr>\n",
       "    <tr>\n",
       "      <th>FIBBG000GZQ728</th>\n",
       "      <td>XOM</td>\n",
       "      <td>XNYS</td>\n",
       "      <td>EXXON MOBIL CORP</td>\n",
       "      <td>False</td>\n",
       "    </tr>\n",
       "  </tbody>\n",
       "</table>\n",
       "</div>"
      ],
      "text/plain": [
       "               Symbol Exchange               Name  Delisted\n",
       "Sid                                                        \n",
       "FIBBG000B9XRY4   AAPL     XNAS          APPLE INC     False\n",
       "FIBBG000BKZB36     HD     XNYS     HOME DEPOT INC     False\n",
       "FIBBG000BMHYD1    JNJ     XNYS  JOHNSON & JOHNSON     False\n",
       "FIBBG000BPH459   MSFT     XNAS     MICROSOFT CORP     False\n",
       "FIBBG000GZQ728    XOM     XNYS   EXXON MOBIL CORP     False"
      ]
     },
     "execution_count": 21,
     "metadata": {},
     "output_type": "execute_result"
    }
   ],
   "source": [
    "filtered_securities = securities[securities.Delisted==False]\n",
    "filtered_securities = filtered_securities[[\"Symbol\", \"Exchange\", \"Name\", \"Delisted\"]]\n",
    "filtered_securities.head()"
   ]
  },
  {
   "cell_type": "code",
   "execution_count": 22,
   "id": "470edd5c-096e-4c81-89e1-7ebd6c766a77",
   "metadata": {
    "tags": []
   },
   "outputs": [],
   "source": [
    "import pandas as pd"
   ]
  },
  {
   "cell_type": "code",
   "execution_count": 23,
   "id": "546809ea-dc29-4aca-984b-e6a5e7f45c46",
   "metadata": {
    "tags": []
   },
   "outputs": [],
   "source": [
    "from quantrocket import get_prices"
   ]
  },
  {
   "cell_type": "code",
   "execution_count": 24,
   "id": "1138eeb1-e398-4b80-ad18-960c8247bdb3",
   "metadata": {
    "tags": []
   },
   "outputs": [
    {
     "data": {
      "text/html": [
       "<div>\n",
       "<style scoped>\n",
       "    .dataframe tbody tr th:only-of-type {\n",
       "        vertical-align: middle;\n",
       "    }\n",
       "\n",
       "    .dataframe tbody tr th {\n",
       "        vertical-align: top;\n",
       "    }\n",
       "\n",
       "    .dataframe thead th {\n",
       "        text-align: right;\n",
       "    }\n",
       "</style>\n",
       "<table border=\"1\" class=\"dataframe\">\n",
       "  <thead>\n",
       "    <tr style=\"text-align: right;\">\n",
       "      <th></th>\n",
       "      <th>Sid</th>\n",
       "      <th>FIBBG000B9XRY4</th>\n",
       "      <th>FIBBG000BKZB36</th>\n",
       "      <th>FIBBG000BMHYD1</th>\n",
       "      <th>FIBBG000BPH459</th>\n",
       "      <th>FIBBG000GZQ728</th>\n",
       "      <th>FIBBG00B3T3HD3</th>\n",
       "    </tr>\n",
       "    <tr>\n",
       "      <th>Field</th>\n",
       "      <th>Date</th>\n",
       "      <th></th>\n",
       "      <th></th>\n",
       "      <th></th>\n",
       "      <th></th>\n",
       "      <th></th>\n",
       "      <th></th>\n",
       "    </tr>\n",
       "  </thead>\n",
       "  <tbody>\n",
       "    <tr>\n",
       "      <th rowspan=\"5\" valign=\"top\">Close</th>\n",
       "      <th>2023-01-03</th>\n",
       "      <td>124.2163</td>\n",
       "      <td>305.5299</td>\n",
       "      <td>171.6388</td>\n",
       "      <td>237.0360</td>\n",
       "      <td>102.0452</td>\n",
       "      <td>43.8958</td>\n",
       "    </tr>\n",
       "    <tr>\n",
       "      <th>2023-01-04</th>\n",
       "      <td>125.4975</td>\n",
       "      <td>309.2243</td>\n",
       "      <td>173.5075</td>\n",
       "      <td>226.6673</td>\n",
       "      <td>102.3422</td>\n",
       "      <td>44.4374</td>\n",
       "    </tr>\n",
       "    <tr>\n",
       "      <th>2023-01-05</th>\n",
       "      <td>124.1666</td>\n",
       "      <td>305.1043</td>\n",
       "      <td>172.2264</td>\n",
       "      <td>219.9494</td>\n",
       "      <td>104.6320</td>\n",
       "      <td>44.7919</td>\n",
       "    </tr>\n",
       "    <tr>\n",
       "      <th>2023-01-06</th>\n",
       "      <td>128.7352</td>\n",
       "      <td>307.0966</td>\n",
       "      <td>173.6231</td>\n",
       "      <td>222.5416</td>\n",
       "      <td>105.8967</td>\n",
       "      <td>45.6485</td>\n",
       "    </tr>\n",
       "    <tr>\n",
       "      <th>2023-01-09</th>\n",
       "      <td>129.2616</td>\n",
       "      <td>307.3674</td>\n",
       "      <td>169.1248</td>\n",
       "      <td>224.7083</td>\n",
       "      <td>103.9230</td>\n",
       "      <td>49.4985</td>\n",
       "    </tr>\n",
       "  </tbody>\n",
       "</table>\n",
       "</div>"
      ],
      "text/plain": [
       "Sid               FIBBG000B9XRY4  FIBBG000BKZB36  FIBBG000BMHYD1  \\\n",
       "Field Date                                                         \n",
       "Close 2023-01-03        124.2163        305.5299        171.6388   \n",
       "      2023-01-04        125.4975        309.2243        173.5075   \n",
       "      2023-01-05        124.1666        305.1043        172.2264   \n",
       "      2023-01-06        128.7352        307.0966        173.6231   \n",
       "      2023-01-09        129.2616        307.3674        169.1248   \n",
       "\n",
       "Sid               FIBBG000BPH459  FIBBG000GZQ728  FIBBG00B3T3HD3  \n",
       "Field Date                                                        \n",
       "Close 2023-01-03        237.0360        102.0452         43.8958  \n",
       "      2023-01-04        226.6673        102.3422         44.4374  \n",
       "      2023-01-05        219.9494        104.6320         44.7919  \n",
       "      2023-01-06        222.5416        105.8967         45.6485  \n",
       "      2023-01-09        224.7083        103.9230         49.4985  "
      ]
     },
     "execution_count": 24,
     "metadata": {},
     "output_type": "execute_result"
    }
   ],
   "source": [
    "prices = get_prices(\"usstock-free-1d\", universes=\"usstock-free\", start_date=\"2023-01-01\", fields=[\"Close\"])\n",
    "prices.head()"
   ]
  },
  {
   "cell_type": "code",
   "execution_count": 25,
   "id": "5a4fcade-a246-45f5-9878-00dfb36735a7",
   "metadata": {
    "tags": []
   },
   "outputs": [],
   "source": [
    "closes = prices.loc[\"Close\"]\n",
    "\n",
    "MOMENTUM_WINDOW = 252 # 12 months = 252 trading days\n",
    "RANKING_PERIOD_GAP = 22 # 1 month = 22 trading days\n",
    "earlier_closes = closes.shift(MOMENTUM_WINDOW)\n",
    "later_closes = closes.shift(RANKING_PERIOD_GAP)\n",
    "momentum_returns = (later_closes - earlier_closes) / earlier_closes"
   ]
  },
  {
   "cell_type": "code",
   "execution_count": 26,
   "id": "8e30a343-c1c3-43b3-9065-e3e4ec28bfb8",
   "metadata": {
    "tags": []
   },
   "outputs": [],
   "source": [
    "next_day_returns = closes.pct_change().shift(-1)"
   ]
  },
  {
   "cell_type": "code",
   "execution_count": 27,
   "id": "897cb7f9-1c72-4e82-bd10-28ae29f2c654",
   "metadata": {
    "tags": []
   },
   "outputs": [],
   "source": [
    "momentum_returns = momentum_returns.stack(dropna=False)\n",
    "next_day_returns = next_day_returns.stack(dropna=False)"
   ]
  },
  {
   "cell_type": "code",
   "execution_count": 28,
   "id": "da506c27-4d19-4405-9209-6662a1b04666",
   "metadata": {
    "tags": []
   },
   "outputs": [],
   "source": [
    "num_bins = 2\n",
    "bins = pd.qcut(momentum_returns, num_bins)"
   ]
  },
  {
   "cell_type": "code",
   "execution_count": 29,
   "id": "b6dfe897-ec8e-40f8-80d9-8bcc2ef138ee",
   "metadata": {
    "tags": []
   },
   "outputs": [
    {
     "data": {
      "text/plain": [
       "<AxesSubplot:title={'center':'Next-day return by 12-month momentum bin'}>"
      ]
     },
     "execution_count": 29,
     "metadata": {},
     "output_type": "execute_result"
    },
    {
     "data": {
      "image/png": "[encoded data removed]",
      "text/plain": [
       "<Figure size 1152x432 with 1 Axes>"
      ]
     },
     "metadata": {},
     "output_type": "display_data"
    }
   ],
   "source": [
    "next_day_returns.groupby(bins).mean().plot(kind=\"bar\", title=\"Next-day return by 12-month momentum bin\")"
   ]
  },
  {
   "cell_type": "markdown",
   "id": "141eefc4-faf8-4e8c-a99d-e9aca9750bad",
   "metadata": {},
   "source": [
    "**Getting only Apple stock (symbol=‘AAPL’) for the year 2023 (01-01-2023 to 12-31-2023)**"
   ]
  },
  {
   "cell_type": "code",
   "execution_count": 72,
   "id": "3c6d7be5-e602-42ed-b8a0-a3fc70d7fa0a",
   "metadata": {
    "tags": []
   },
   "outputs": [],
   "source": [
    "prices = get_prices(\"usstock-free-1d\", sids=\"FIBBG000B9XRY4\", start_date=\"2023-01-01\", end_date=\"2023-12-31\", fields=[\"Close\"])"
   ]
  },
  {
   "cell_type": "code",
   "execution_count": 74,
   "id": "06284c70-023a-4d84-a914-c8a8e828e73f",
   "metadata": {
    "tags": []
   },
   "outputs": [
    {
     "data": {
      "text/html": [
       "<div>\n",
       "<style scoped>\n",
       "    .dataframe tbody tr th:only-of-type {\n",
       "        vertical-align: middle;\n",
       "    }\n",
       "\n",
       "    .dataframe tbody tr th {\n",
       "        vertical-align: top;\n",
       "    }\n",
       "\n",
       "    .dataframe thead th {\n",
       "        text-align: right;\n",
       "    }\n",
       "</style>\n",
       "<table border=\"1\" class=\"dataframe\">\n",
       "  <thead>\n",
       "    <tr style=\"text-align: right;\">\n",
       "      <th></th>\n",
       "      <th>Sid</th>\n",
       "      <th>FIBBG000B9XRY4</th>\n",
       "    </tr>\n",
       "    <tr>\n",
       "      <th>Field</th>\n",
       "      <th>Date</th>\n",
       "      <th></th>\n",
       "    </tr>\n",
       "  </thead>\n",
       "  <tbody>\n",
       "    <tr>\n",
       "      <th rowspan=\"5\" valign=\"top\">Close</th>\n",
       "      <th>2023-01-03</th>\n",
       "      <td>124.2163</td>\n",
       "    </tr>\n",
       "    <tr>\n",
       "      <th>2023-01-04</th>\n",
       "      <td>125.4975</td>\n",
       "    </tr>\n",
       "    <tr>\n",
       "      <th>2023-01-05</th>\n",
       "      <td>124.1666</td>\n",
       "    </tr>\n",
       "    <tr>\n",
       "      <th>2023-01-06</th>\n",
       "      <td>128.7352</td>\n",
       "    </tr>\n",
       "    <tr>\n",
       "      <th>2023-01-09</th>\n",
       "      <td>129.2616</td>\n",
       "    </tr>\n",
       "  </tbody>\n",
       "</table>\n",
       "</div>"
      ],
      "text/plain": [
       "Sid               FIBBG000B9XRY4\n",
       "Field Date                      \n",
       "Close 2023-01-03        124.2163\n",
       "      2023-01-04        125.4975\n",
       "      2023-01-05        124.1666\n",
       "      2023-01-06        128.7352\n",
       "      2023-01-09        129.2616"
      ]
     },
     "execution_count": 74,
     "metadata": {},
     "output_type": "execute_result"
    }
   ],
   "source": [
    "prices.head()"
   ]
  },
  {
   "cell_type": "code",
   "execution_count": 75,
   "id": "9ed00ad4-981c-464d-b2a0-dbbda9264643",
   "metadata": {
    "tags": []
   },
   "outputs": [],
   "source": [
    "df = pd.DataFrame(prices)"
   ]
  },
  {
   "cell_type": "code",
   "execution_count": 76,
   "id": "b9f88575-8da6-48fe-be06-03d2a0cfcd26",
   "metadata": {
    "tags": []
   },
   "outputs": [],
   "source": [
    "df = df.to_csv('stock_prices.csv', index=False)"
   ]
  },
  {
   "cell_type": "code",
   "execution_count": 79,
   "id": "7c8a7aea-8a9c-49f6-b331-00903585d4e1",
   "metadata": {
    "tags": []
   },
   "outputs": [],
   "source": [
    "pricesss = prices[\"FIBBG000B9XRY4\"][\"Close\"]\n",
    "#pricesss['Date'] = pricesss.index\n",
    "pricesss.to_csv('stock_prices.csv')"
   ]
  },
  {
   "cell_type": "code",
   "execution_count": 80,
   "id": "da8c792c-ed2c-4bcf-aa6d-b7c218904606",
   "metadata": {
    "tags": []
   },
   "outputs": [],
   "source": [
    "df = pd.read_csv('stock_prices.csv')"
   ]
  },
  {
   "cell_type": "code",
   "execution_count": 81,
   "id": "fed23110-4bcf-45b8-b80d-9dc733cfffc8",
   "metadata": {
    "tags": []
   },
   "outputs": [
    {
     "name": "stdout",
     "output_type": "stream",
     "text": [
      "           Date  FIBBG000B9XRY4\n",
      "0    2023-01-03        124.2163\n",
      "1    2023-01-04        125.4975\n",
      "2    2023-01-05        124.1666\n",
      "3    2023-01-06        128.7352\n",
      "4    2023-01-09        129.2616\n",
      "..          ...             ...\n",
      "245  2023-12-22        193.3533\n",
      "246  2023-12-26        192.8040\n",
      "247  2023-12-27        192.9038\n",
      "248  2023-12-28        193.3333\n",
      "249  2023-12-29        192.2846\n",
      "\n",
      "[250 rows x 2 columns]\n"
     ]
    }
   ],
   "source": [
    "print(df)"
   ]
  },
  {
   "cell_type": "code",
   "execution_count": 84,
   "id": "dfeb4551-10d8-4a6e-ae77-b570b012ae2c",
   "metadata": {
    "tags": []
   },
   "outputs": [
    {
     "data": {
      "image/png": "[encoded data removed]",
      "text/plain": [
       "<Figure size 720x360 with 1 Axes>"
      ]
     },
     "metadata": {},
     "output_type": "display_data"
    }
   ],
   "source": [
    "import matplotlib.pyplot as plt\n",
    "\n",
    "df['Date'] = pd.to_datetime(df['Date'])\n",
    "\n",
    "\n",
    "plt.figure(figsize=(10, 5))\n",
    "plt.plot(df['Date'], df[\"FIBBG000B9XRY4\"], marker='o', linestyle='-', color='b')\n",
    "plt.title('Closing Prices Over Time')\n",
    "plt.xlabel('Date')\n",
    "plt.ylabel('Close Price')\n",
    "plt.show()"
   ]
  },
  {
   "cell_type": "code",
   "execution_count": 45,
   "id": "3062bfce-2be4-4b16-9571-96848c2ac661",
   "metadata": {
    "tags": []
   },
   "outputs": [
    {
     "name": "stdout",
     "output_type": "stream",
     "text": [
      "Requirement already satisfied: plotly in /opt/conda/lib/python3.9/site-packages (5.19.0)\n",
      "Requirement already satisfied: tenacity>=6.2.0 in /opt/conda/lib/python3.9/site-packages (from plotly) (8.2.3)\n",
      "Requirement already satisfied: packaging in /opt/conda/lib/python3.9/site-packages (from plotly) (23.0)\n",
      "\u001b[33mWARNING: Running pip as the 'root' user can result in broken permissions and conflicting behaviour with the system package manager. It is recommended to use a virtual environment instead: https://pip.pypa.io/warnings/venv\u001b[0m\u001b[33m\n",
      "\u001b[0m\n",
      "\u001b[1m[\u001b[0m\u001b[34;49mnotice\u001b[0m\u001b[1;39;49m]\u001b[0m\u001b[39;49m A new release of pip is available: \u001b[0m\u001b[31;49m23.1.2\u001b[0m\u001b[39;49m -> \u001b[0m\u001b[32;49m24.0\u001b[0m\n",
      "\u001b[1m[\u001b[0m\u001b[34;49mnotice\u001b[0m\u001b[1;39;49m]\u001b[0m\u001b[39;49m To update, run: \u001b[0m\u001b[32;49mpip install --upgrade pip\u001b[0m\n",
      "Note: you may need to restart the kernel to use updated packages.\n"
     ]
    }
   ],
   "source": [
    "pip install plotly"
   ]
  },
  {
   "cell_type": "code",
   "execution_count": 91,
   "id": "78d3e6de-c4e4-4bd7-9457-a4a3edd6cea2",
   "metadata": {
    "tags": []
   },
   "outputs": [
    {
     "data": {
      "application/vnd.plotly.v1+json": {
       "config": {
        "plotlyServerURL": "https://plot.ly"
       },
       "data": [
        {
         "close": [
          124.2163,
          125.4975,
          124.1666,
          128.7352,
          129.2616,
          129.8377,
          132.5788,
          132.4994,
          133.8402,
          135.0121,
          134.2871,
          134.3467,
          136.9289,
          140.1468,
          141.5571,
          140.8917,
          142.9774,
          144.9339,
          142.0239,
          143.3051,
          144.4373,
          149.7905,
          153.4454,
          150.6943,
          153.5944,
          150.883,
          149.8402,
          150.2082,
          153.0332,
          152.3866,
          154.5053,
          152.8939,
          151.7401,
          147.6917,
          148.1194,
          148.6068,
          145.9311,
          147.1346,
          146.6273,
          144.5385,
          145.1353,
          150.2281,
          153.0133,
          150.7951,
          152.0584,
          149.7905,
          147.7116,
          149.6711,
          151.7798,
          152.1777,
          155.0225,
          154.177,
          156.5643,
          158.4343,
          156.992,
          158.0862,
          159.3992,
          157.4396,
          156.813,
          159.9164,
          161.498,
          164.0245,
          165.2877,
          164.7506,
          162.8905,
          163.7858,
          161.1697,
          159.9463,
          159.25,
          164.681,
          164.3328,
          164.3527,
          165.5861,
          166.74,
          165.7652,
          164.1438,
          164.4522,
          162.9005,
          162.8905,
          167.5158,
          168.7791,
          168.6896,
          167.6452,
          166.5609,
          164.9098,
          172.6485,
          172.5788,
          170.858,
          172.6335,
          172.8275,
          171.8912,
          171.3932,
          171.3932,
          172.0107,
          174.3614,
          174.471,
          173.5148,
          170.8852,
          171.1641,
          172.3095,
          174.7399,
          176.6026,
          176.5528,
          179.3816,
          180.2382,
          178.8736,
          178.5051,
          177.1205,
          179.8597,
          180.2482,
          183.0671,
          182.5889,
          183.2264,
          185.2783,
          184.1926,
          184.2823,
          183.2364,
          186.2644,
          185.9457,
          184.5412,
          187.3203,
          188.5056,
          188.8442,
          193.207,
          191.703,
          190.5774,
          191.0555,
          189.93,
          187.8681,
          187.3402,
          189.0235,
          189.7905,
          189.9399,
          193.2269,
          192.968,
          194.3326,
          192.3703,
          191.185,
          191.9918,
          192.8584,
          193.7349,
          192.46,
          195.0597,
          195.6773,
          194.8356,
          191.8225,
          190.418,
          181.2741,
          178.1465,
          179.0928,
          177.4891,
          177.27,
          177.3298,
          178.9955,
          176.9907,
          176.113,
          173.5496,
          174.0383,
          175.3848,
          176.7712,
          180.6512,
          175.9234,
          178.1477,
          179.7236,
          183.6434,
          187.1643,
          187.3837,
          188.9696,
          189.209,
          182.4365,
          177.1004,
          177.7188,
          178.8957,
          175.8437,
          173.7591,
          175.2851,
          174.557,
          177.5093,
          178.6065,
          175.0357,
          173.4798,
          174.3376,
          175.6242,
          171.5149,
          169.9888,
          170.2482,
          170.7668,
          173.3003,
          171.9537,
          173.2105,
          174.4573,
          177.0306,
          178.5267,
          177.9282,
          179.3346,
          180.2422,
          178.3871,
          178.2574,
          176.6915,
          175.3848,
          175.0058,
          172.4325,
          172.5522,
          172.9911,
          170.6571,
          166.458,
          167.7846,
          169.8492,
          170.328,
          173.5197,
          177.1104,
          176.1927,
          178.7661,
          181.3494,
          182.4166,
          181.9378,
          186.1624,
          184.5645,
          187.2011,
          187.7704,
          189.4682,
          189.4483,
          191.206,
          190.397,
          191.0662,
          189.7279,
          189.5481,
          190.1573,
          189.1287,
          189.7079,
          190.9963,
          189.1886,
          193.1735,
          192.0749,
          194.0224,
          195.4606,
          192.9338,
          194.4619,
          197.7077,
          197.8575,
          197.3182,
          195.6404,
          196.689,
          194.5817,
          194.4319,
          193.3533,
          192.804,
          192.9038,
          193.3333,
          192.2846
         ],
         "high": [
          124.2163,
          125.4975,
          124.1666,
          128.7352,
          129.2616,
          129.8377,
          132.5788,
          132.4994,
          133.8402,
          135.0121,
          134.2871,
          134.3467,
          136.9289,
          140.1468,
          141.5571,
          140.8917,
          142.9774,
          144.9339,
          142.0239,
          143.3051,
          144.4373,
          149.7905,
          153.4454,
          150.6943,
          153.5944,
          150.883,
          149.8402,
          150.2082,
          153.0332,
          152.3866,
          154.5053,
          152.8939,
          151.7401,
          147.6917,
          148.1194,
          148.6068,
          145.9311,
          147.1346,
          146.6273,
          144.5385,
          145.1353,
          150.2281,
          153.0133,
          150.7951,
          152.0584,
          149.7905,
          147.7116,
          149.6711,
          151.7798,
          152.1777,
          155.0225,
          154.177,
          156.5643,
          158.4343,
          156.992,
          158.0862,
          159.3992,
          157.4396,
          156.813,
          159.9164,
          161.498,
          164.0245,
          165.2877,
          164.7506,
          162.8905,
          163.7858,
          161.1697,
          159.9463,
          159.25,
          164.681,
          164.3328,
          164.3527,
          165.5861,
          166.74,
          165.7652,
          164.1438,
          164.4522,
          162.9005,
          162.8905,
          167.5158,
          168.7791,
          168.6896,
          167.6452,
          166.5609,
          164.9098,
          172.6485,
          172.5788,
          170.858,
          172.6335,
          172.8275,
          171.8912,
          171.3932,
          171.3932,
          172.0107,
          174.3614,
          174.471,
          173.5148,
          170.8852,
          171.1641,
          172.3095,
          174.7399,
          176.6026,
          176.5528,
          179.3816,
          180.2382,
          178.8736,
          178.5051,
          177.1205,
          179.8597,
          180.2482,
          183.0671,
          182.5889,
          183.2264,
          185.2783,
          184.1926,
          184.2823,
          183.2364,
          186.2644,
          185.9457,
          184.5412,
          187.3203,
          188.5056,
          188.8442,
          193.207,
          191.703,
          190.5774,
          191.0555,
          189.93,
          187.8681,
          187.3402,
          189.0235,
          189.7905,
          189.9399,
          193.2269,
          192.968,
          194.3326,
          192.3703,
          191.185,
          191.9918,
          192.8584,
          193.7349,
          192.46,
          195.0597,
          195.6773,
          194.8356,
          191.8225,
          190.418,
          181.2741,
          178.1465,
          179.0928,
          177.4891,
          177.27,
          177.3298,
          178.9955,
          176.9907,
          176.113,
          173.5496,
          174.0383,
          175.3848,
          176.7712,
          180.6512,
          175.9234,
          178.1477,
          179.7236,
          183.6434,
          187.1643,
          187.3837,
          188.9696,
          189.209,
          182.4365,
          177.1004,
          177.7188,
          178.8957,
          175.8437,
          173.7591,
          175.2851,
          174.557,
          177.5093,
          178.6065,
          175.0357,
          173.4798,
          174.3376,
          175.6242,
          171.5149,
          169.9888,
          170.2482,
          170.7668,
          173.3003,
          171.9537,
          173.2105,
          174.4573,
          177.0306,
          178.5267,
          177.9282,
          179.3346,
          180.2422,
          178.3871,
          178.2574,
          176.6915,
          175.3848,
          175.0058,
          172.4325,
          172.5522,
          172.9911,
          170.6571,
          166.458,
          167.7846,
          169.8492,
          170.328,
          173.5197,
          177.1104,
          176.1927,
          178.7661,
          181.3494,
          182.4166,
          181.9378,
          186.1624,
          184.5645,
          187.2011,
          187.7704,
          189.4682,
          189.4483,
          191.206,
          190.397,
          191.0662,
          189.7279,
          189.5481,
          190.1573,
          189.1287,
          189.7079,
          190.9963,
          189.1886,
          193.1735,
          192.0749,
          194.0224,
          195.4606,
          192.9338,
          194.4619,
          197.7077,
          197.8575,
          197.3182,
          195.6404,
          196.689,
          194.5817,
          194.4319,
          193.3533,
          192.804,
          192.9038,
          193.3333,
          192.2846
         ],
         "low": [
          124.2163,
          125.4975,
          124.1666,
          128.7352,
          129.2616,
          129.8377,
          132.5788,
          132.4994,
          133.8402,
          135.0121,
          134.2871,
          134.3467,
          136.9289,
          140.1468,
          141.5571,
          140.8917,
          142.9774,
          144.9339,
          142.0239,
          143.3051,
          144.4373,
          149.7905,
          153.4454,
          150.6943,
          153.5944,
          150.883,
          149.8402,
          150.2082,
          153.0332,
          152.3866,
          154.5053,
          152.8939,
          151.7401,
          147.6917,
          148.1194,
          148.6068,
          145.9311,
          147.1346,
          146.6273,
          144.5385,
          145.1353,
          150.2281,
          153.0133,
          150.7951,
          152.0584,
          149.7905,
          147.7116,
          149.6711,
          151.7798,
          152.1777,
          155.0225,
          154.177,
          156.5643,
          158.4343,
          156.992,
          158.0862,
          159.3992,
          157.4396,
          156.813,
          159.9164,
          161.498,
          164.0245,
          165.2877,
          164.7506,
          162.8905,
          163.7858,
          161.1697,
          159.9463,
          159.25,
          164.681,
          164.3328,
          164.3527,
          165.5861,
          166.74,
          165.7652,
          164.1438,
          164.4522,
          162.9005,
          162.8905,
          167.5158,
          168.7791,
          168.6896,
          167.6452,
          166.5609,
          164.9098,
          172.6485,
          172.5788,
          170.858,
          172.6335,
          172.8275,
          171.8912,
          171.3932,
          171.3932,
          172.0107,
          174.3614,
          174.471,
          173.5148,
          170.8852,
          171.1641,
          172.3095,
          174.7399,
          176.6026,
          176.5528,
          179.3816,
          180.2382,
          178.8736,
          178.5051,
          177.1205,
          179.8597,
          180.2482,
          183.0671,
          182.5889,
          183.2264,
          185.2783,
          184.1926,
          184.2823,
          183.2364,
          186.2644,
          185.9457,
          184.5412,
          187.3203,
          188.5056,
          188.8442,
          193.207,
          191.703,
          190.5774,
          191.0555,
          189.93,
          187.8681,
          187.3402,
          189.0235,
          189.7905,
          189.9399,
          193.2269,
          192.968,
          194.3326,
          192.3703,
          191.185,
          191.9918,
          192.8584,
          193.7349,
          192.46,
          195.0597,
          195.6773,
          194.8356,
          191.8225,
          190.418,
          181.2741,
          178.1465,
          179.0928,
          177.4891,
          177.27,
          177.3298,
          178.9955,
          176.9907,
          176.113,
          173.5496,
          174.0383,
          175.3848,
          176.7712,
          180.6512,
          175.9234,
          178.1477,
          179.7236,
          183.6434,
          187.1643,
          187.3837,
          188.9696,
          189.209,
          182.4365,
          177.1004,
          177.7188,
          178.8957,
          175.8437,
          173.7591,
          175.2851,
          174.557,
          177.5093,
          178.6065,
          175.0357,
          173.4798,
          174.3376,
          175.6242,
          171.5149,
          169.9888,
          170.2482,
          170.7668,
          173.3003,
          171.9537,
          173.2105,
          174.4573,
          177.0306,
          178.5267,
          177.9282,
          179.3346,
          180.2422,
          178.3871,
          178.2574,
          176.6915,
          175.3848,
          175.0058,
          172.4325,
          172.5522,
          172.9911,
          170.6571,
          166.458,
          167.7846,
          169.8492,
          170.328,
          173.5197,
          177.1104,
          176.1927,
          178.7661,
          181.3494,
          182.4166,
          181.9378,
          186.1624,
          184.5645,
          187.2011,
          187.7704,
          189.4682,
          189.4483,
          191.206,
          190.397,
          191.0662,
          189.7279,
          189.5481,
          190.1573,
          189.1287,
          189.7079,
          190.9963,
          189.1886,
          193.1735,
          192.0749,
          194.0224,
          195.4606,
          192.9338,
          194.4619,
          197.7077,
          197.8575,
          197.3182,
          195.6404,
          196.689,
          194.5817,
          194.4319,
          193.3533,
          192.804,
          192.9038,
          193.3333,
          192.2846
         ],
         "open": [
          124.2163,
          125.4975,
          124.1666,
          128.7352,
          129.2616,
          129.8377,
          132.5788,
          132.4994,
          133.8402,
          135.0121,
          134.2871,
          134.3467,
          136.9289,
          140.1468,
          141.5571,
          140.8917,
          142.9774,
          144.9339,
          142.0239,
          143.3051,
          144.4373,
          149.7905,
          153.4454,
          150.6943,
          153.5944,
          150.883,
          149.8402,
          150.2082,
          153.0332,
          152.3866,
          154.5053,
          152.8939,
          151.7401,
          147.6917,
          148.1194,
          148.6068,
          145.9311,
          147.1346,
          146.6273,
          144.5385,
          145.1353,
          150.2281,
          153.0133,
          150.7951,
          152.0584,
          149.7905,
          147.7116,
          149.6711,
          151.7798,
          152.1777,
          155.0225,
          154.177,
          156.5643,
          158.4343,
          156.992,
          158.0862,
          159.3992,
          157.4396,
          156.813,
          159.9164,
          161.498,
          164.0245,
          165.2877,
          164.7506,
          162.8905,
          163.7858,
          161.1697,
          159.9463,
          159.25,
          164.681,
          164.3328,
          164.3527,
          165.5861,
          166.74,
          165.7652,
          164.1438,
          164.4522,
          162.9005,
          162.8905,
          167.5158,
          168.7791,
          168.6896,
          167.6452,
          166.5609,
          164.9098,
          172.6485,
          172.5788,
          170.858,
          172.6335,
          172.8275,
          171.8912,
          171.3932,
          171.3932,
          172.0107,
          174.3614,
          174.471,
          173.5148,
          170.8852,
          171.1641,
          172.3095,
          174.7399,
          176.6026,
          176.5528,
          179.3816,
          180.2382,
          178.8736,
          178.5051,
          177.1205,
          179.8597,
          180.2482,
          183.0671,
          182.5889,
          183.2264,
          185.2783,
          184.1926,
          184.2823,
          183.2364,
          186.2644,
          185.9457,
          184.5412,
          187.3203,
          188.5056,
          188.8442,
          193.207,
          191.703,
          190.5774,
          191.0555,
          189.93,
          187.8681,
          187.3402,
          189.0235,
          189.7905,
          189.9399,
          193.2269,
          192.968,
          194.3326,
          192.3703,
          191.185,
          191.9918,
          192.8584,
          193.7349,
          192.46,
          195.0597,
          195.6773,
          194.8356,
          191.8225,
          190.418,
          181.2741,
          178.1465,
          179.0928,
          177.4891,
          177.27,
          177.3298,
          178.9955,
          176.9907,
          176.113,
          173.5496,
          174.0383,
          175.3848,
          176.7712,
          180.6512,
          175.9234,
          178.1477,
          179.7236,
          183.6434,
          187.1643,
          187.3837,
          188.9696,
          189.209,
          182.4365,
          177.1004,
          177.7188,
          178.8957,
          175.8437,
          173.7591,
          175.2851,
          174.557,
          177.5093,
          178.6065,
          175.0357,
          173.4798,
          174.3376,
          175.6242,
          171.5149,
          169.9888,
          170.2482,
          170.7668,
          173.3003,
          171.9537,
          173.2105,
          174.4573,
          177.0306,
          178.5267,
          177.9282,
          179.3346,
          180.2422,
          178.3871,
          178.2574,
          176.6915,
          175.3848,
          175.0058,
          172.4325,
          172.5522,
          172.9911,
          170.6571,
          166.458,
          167.7846,
          169.8492,
          170.328,
          173.5197,
          177.1104,
          176.1927,
          178.7661,
          181.3494,
          182.4166,
          181.9378,
          186.1624,
          184.5645,
          187.2011,
          187.7704,
          189.4682,
          189.4483,
          191.206,
          190.397,
          191.0662,
          189.7279,
          189.5481,
          190.1573,
          189.1287,
          189.7079,
          190.9963,
          189.1886,
          193.1735,
          192.0749,
          194.0224,
          195.4606,
          192.9338,
          194.4619,
          197.7077,
          197.8575,
          197.3182,
          195.6404,
          196.689,
          194.5817,
          194.4319,
          193.3533,
          192.804,
          192.9038,
          193.3333,
          192.2846
         ],
         "type": "candlestick",
         "x": [
          "2023-01-03T00:00:00",
          "2023-01-04T00:00:00",
          "2023-01-05T00:00:00",
          "2023-01-06T00:00:00",
          "2023-01-09T00:00:00",
          "2023-01-10T00:00:00",
          "2023-01-11T00:00:00",
          "2023-01-12T00:00:00",
          "2023-01-13T00:00:00",
          "2023-01-17T00:00:00",
          "2023-01-18T00:00:00",
          "2023-01-19T00:00:00",
          "2023-01-20T00:00:00",
          "2023-01-23T00:00:00",
          "2023-01-24T00:00:00",
          "2023-01-25T00:00:00",
          "2023-01-26T00:00:00",
          "2023-01-27T00:00:00",
          "2023-01-30T00:00:00",
          "2023-01-31T00:00:00",
          "2023-02-01T00:00:00",
          "2023-02-02T00:00:00",
          "2023-02-03T00:00:00",
          "2023-02-06T00:00:00",
          "2023-02-07T00:00:00",
          "2023-02-08T00:00:00",
          "2023-02-09T00:00:00",
          "2023-02-10T00:00:00",
          "2023-02-13T00:00:00",
          "2023-02-14T00:00:00",
          "2023-02-15T00:00:00",
          "2023-02-16T00:00:00",
          "2023-02-17T00:00:00",
          "2023-02-21T00:00:00",
          "2023-02-22T00:00:00",
          "2023-02-23T00:00:00",
          "2023-02-24T00:00:00",
          "2023-02-27T00:00:00",
          "2023-02-28T00:00:00",
          "2023-03-01T00:00:00",
          "2023-03-02T00:00:00",
          "2023-03-03T00:00:00",
          "2023-03-06T00:00:00",
          "2023-03-07T00:00:00",
          "2023-03-08T00:00:00",
          "2023-03-09T00:00:00",
          "2023-03-10T00:00:00",
          "2023-03-13T00:00:00",
          "2023-03-14T00:00:00",
          "2023-03-15T00:00:00",
          "2023-03-16T00:00:00",
          "2023-03-17T00:00:00",
          "2023-03-20T00:00:00",
          "2023-03-21T00:00:00",
          "2023-03-22T00:00:00",
          "2023-03-23T00:00:00",
          "2023-03-24T00:00:00",
          "2023-03-27T00:00:00",
          "2023-03-28T00:00:00",
          "2023-03-29T00:00:00",
          "2023-03-30T00:00:00",
          "2023-03-31T00:00:00",
          "2023-04-03T00:00:00",
          "2023-04-04T00:00:00",
          "2023-04-05T00:00:00",
          "2023-04-06T00:00:00",
          "2023-04-10T00:00:00",
          "2023-04-11T00:00:00",
          "2023-04-12T00:00:00",
          "2023-04-13T00:00:00",
          "2023-04-14T00:00:00",
          "2023-04-17T00:00:00",
          "2023-04-18T00:00:00",
          "2023-04-19T00:00:00",
          "2023-04-20T00:00:00",
          "2023-04-21T00:00:00",
          "2023-04-24T00:00:00",
          "2023-04-25T00:00:00",
          "2023-04-26T00:00:00",
          "2023-04-27T00:00:00",
          "2023-04-28T00:00:00",
          "2023-05-01T00:00:00",
          "2023-05-02T00:00:00",
          "2023-05-03T00:00:00",
          "2023-05-04T00:00:00",
          "2023-05-05T00:00:00",
          "2023-05-08T00:00:00",
          "2023-05-09T00:00:00",
          "2023-05-10T00:00:00",
          "2023-05-11T00:00:00",
          "2023-05-12T00:00:00",
          "2023-05-15T00:00:00",
          "2023-05-16T00:00:00",
          "2023-05-17T00:00:00",
          "2023-05-18T00:00:00",
          "2023-05-19T00:00:00",
          "2023-05-22T00:00:00",
          "2023-05-23T00:00:00",
          "2023-05-24T00:00:00",
          "2023-05-25T00:00:00",
          "2023-05-26T00:00:00",
          "2023-05-30T00:00:00",
          "2023-05-31T00:00:00",
          "2023-06-01T00:00:00",
          "2023-06-02T00:00:00",
          "2023-06-05T00:00:00",
          "2023-06-06T00:00:00",
          "2023-06-07T00:00:00",
          "2023-06-08T00:00:00",
          "2023-06-09T00:00:00",
          "2023-06-12T00:00:00",
          "2023-06-13T00:00:00",
          "2023-06-14T00:00:00",
          "2023-06-15T00:00:00",
          "2023-06-16T00:00:00",
          "2023-06-20T00:00:00",
          "2023-06-21T00:00:00",
          "2023-06-22T00:00:00",
          "2023-06-23T00:00:00",
          "2023-06-26T00:00:00",
          "2023-06-27T00:00:00",
          "2023-06-28T00:00:00",
          "2023-06-29T00:00:00",
          "2023-06-30T00:00:00",
          "2023-07-03T00:00:00",
          "2023-07-05T00:00:00",
          "2023-07-06T00:00:00",
          "2023-07-07T00:00:00",
          "2023-07-10T00:00:00",
          "2023-07-11T00:00:00",
          "2023-07-12T00:00:00",
          "2023-07-13T00:00:00",
          "2023-07-14T00:00:00",
          "2023-07-17T00:00:00",
          "2023-07-18T00:00:00",
          "2023-07-19T00:00:00",
          "2023-07-20T00:00:00",
          "2023-07-21T00:00:00",
          "2023-07-24T00:00:00",
          "2023-07-25T00:00:00",
          "2023-07-26T00:00:00",
          "2023-07-27T00:00:00",
          "2023-07-28T00:00:00",
          "2023-07-31T00:00:00",
          "2023-08-01T00:00:00",
          "2023-08-02T00:00:00",
          "2023-08-03T00:00:00",
          "2023-08-04T00:00:00",
          "2023-08-07T00:00:00",
          "2023-08-08T00:00:00",
          "2023-08-09T00:00:00",
          "2023-08-10T00:00:00",
          "2023-08-11T00:00:00",
          "2023-08-14T00:00:00",
          "2023-08-15T00:00:00",
          "2023-08-16T00:00:00",
          "2023-08-17T00:00:00",
          "2023-08-18T00:00:00",
          "2023-08-21T00:00:00",
          "2023-08-22T00:00:00",
          "2023-08-23T00:00:00",
          "2023-08-24T00:00:00",
          "2023-08-25T00:00:00",
          "2023-08-28T00:00:00",
          "2023-08-29T00:00:00",
          "2023-08-30T00:00:00",
          "2023-08-31T00:00:00",
          "2023-09-01T00:00:00",
          "2023-09-05T00:00:00",
          "2023-09-06T00:00:00",
          "2023-09-07T00:00:00",
          "2023-09-08T00:00:00",
          "2023-09-11T00:00:00",
          "2023-09-12T00:00:00",
          "2023-09-13T00:00:00",
          "2023-09-14T00:00:00",
          "2023-09-15T00:00:00",
          "2023-09-18T00:00:00",
          "2023-09-19T00:00:00",
          "2023-09-20T00:00:00",
          "2023-09-21T00:00:00",
          "2023-09-22T00:00:00",
          "2023-09-25T00:00:00",
          "2023-09-26T00:00:00",
          "2023-09-27T00:00:00",
          "2023-09-28T00:00:00",
          "2023-09-29T00:00:00",
          "2023-10-02T00:00:00",
          "2023-10-03T00:00:00",
          "2023-10-04T00:00:00",
          "2023-10-05T00:00:00",
          "2023-10-06T00:00:00",
          "2023-10-09T00:00:00",
          "2023-10-10T00:00:00",
          "2023-10-11T00:00:00",
          "2023-10-12T00:00:00",
          "2023-10-13T00:00:00",
          "2023-10-16T00:00:00",
          "2023-10-17T00:00:00",
          "2023-10-18T00:00:00",
          "2023-10-19T00:00:00",
          "2023-10-20T00:00:00",
          "2023-10-23T00:00:00",
          "2023-10-24T00:00:00",
          "2023-10-25T00:00:00",
          "2023-10-26T00:00:00",
          "2023-10-27T00:00:00",
          "2023-10-30T00:00:00",
          "2023-10-31T00:00:00",
          "2023-11-01T00:00:00",
          "2023-11-02T00:00:00",
          "2023-11-03T00:00:00",
          "2023-11-06T00:00:00",
          "2023-11-07T00:00:00",
          "2023-11-08T00:00:00",
          "2023-11-09T00:00:00",
          "2023-11-10T00:00:00",
          "2023-11-13T00:00:00",
          "2023-11-14T00:00:00",
          "2023-11-15T00:00:00",
          "2023-11-16T00:00:00",
          "2023-11-17T00:00:00",
          "2023-11-20T00:00:00",
          "2023-11-21T00:00:00",
          "2023-11-22T00:00:00",
          "2023-11-24T00:00:00",
          "2023-11-27T00:00:00",
          "2023-11-28T00:00:00",
          "2023-11-29T00:00:00",
          "2023-11-30T00:00:00",
          "2023-12-01T00:00:00",
          "2023-12-04T00:00:00",
          "2023-12-05T00:00:00",
          "2023-12-06T00:00:00",
          "2023-12-07T00:00:00",
          "2023-12-08T00:00:00",
          "2023-12-11T00:00:00",
          "2023-12-12T00:00:00",
          "2023-12-13T00:00:00",
          "2023-12-14T00:00:00",
          "2023-12-15T00:00:00",
          "2023-12-18T00:00:00",
          "2023-12-19T00:00:00",
          "2023-12-20T00:00:00",
          "2023-12-21T00:00:00",
          "2023-12-22T00:00:00",
          "2023-12-26T00:00:00",
          "2023-12-27T00:00:00",
          "2023-12-28T00:00:00",
          "2023-12-29T00:00:00"
         ]
        }
       ],
       "layout": {
        "template": {
         "data": {
          "bar": [
           {
            "error_x": {
             "color": "#2a3f5f"
            },
            "error_y": {
             "color": "#2a3f5f"
            },
            "marker": {
             "line": {
              "color": "#E5ECF6",
              "width": 0.5
             },
             "pattern": {
              "fillmode": "overlay",
              "size": 10,
              "solidity": 0.2
             }
            },
            "type": "bar"
           }
          ],
          "barpolar": [
           {
            "marker": {
             "line": {
              "color": "#E5ECF6",
              "width": 0.5
             },
             "pattern": {
              "fillmode": "overlay",
              "size": 10,
              "solidity": 0.2
             }
            },
            "type": "barpolar"
           }
          ],
          "carpet": [
           {
            "aaxis": {
             "endlinecolor": "#2a3f5f",
             "gridcolor": "white",
             "linecolor": "white",
             "minorgridcolor": "white",
             "startlinecolor": "#2a3f5f"
            },
            "baxis": {
             "endlinecolor": "#2a3f5f",
             "gridcolor": "white",
             "linecolor": "white",
             "minorgridcolor": "white",
             "startlinecolor": "#2a3f5f"
            },
            "type": "carpet"
           }
          ],
          "choropleth": [
           {
            "colorbar": {
             "outlinewidth": 0,
             "ticks": ""
            },
            "type": "choropleth"
           }
          ],
          "contour": [
           {
            "colorbar": {
             "outlinewidth": 0,
             "ticks": ""
            },
            "colorscale": [
             [
              0,
              "#0d0887"
             ],
             [
              0.1111111111111111,
              "#46039f"
             ],
             [
              0.2222222222222222,
              "#7201a8"
             ],
             [
              0.3333333333333333,
              "#9c179e"
             ],
             [
              0.4444444444444444,
              "#bd3786"
             ],
             [
              0.5555555555555556,
              "#d8576b"
             ],
             [
              0.6666666666666666,
              "#ed7953"
             ],
             [
              0.7777777777777778,
              "#fb9f3a"
             ],
             [
              0.8888888888888888,
              "#fdca26"
             ],
             [
              1,
              "#f0f921"
             ]
            ],
            "type": "contour"
           }
          ],
          "contourcarpet": [
           {
            "colorbar": {
             "outlinewidth": 0,
             "ticks": ""
            },
            "type": "contourcarpet"
           }
          ],
          "heatmap": [
           {
            "colorbar": {
             "outlinewidth": 0,
             "ticks": ""
            },
            "colorscale": [
             [
              0,
              "#0d0887"
             ],
             [
              0.1111111111111111,
              "#46039f"
             ],
             [
              0.2222222222222222,
              "#7201a8"
             ],
             [
              0.3333333333333333,
              "#9c179e"
             ],
             [
              0.4444444444444444,
              "#bd3786"
             ],
             [
              0.5555555555555556,
              "#d8576b"
             ],
             [
              0.6666666666666666,
              "#ed7953"
             ],
             [
              0.7777777777777778,
              "#fb9f3a"
             ],
             [
              0.8888888888888888,
              "#fdca26"
             ],
             [
              1,
              "#f0f921"
             ]
            ],
            "type": "heatmap"
           }
          ],
          "heatmapgl": [
           {
            "colorbar": {
             "outlinewidth": 0,
             "ticks": ""
            },
            "colorscale": [
             [
              0,
              "#0d0887"
             ],
             [
              0.1111111111111111,
              "#46039f"
             ],
             [
              0.2222222222222222,
              "#7201a8"
             ],
             [
              0.3333333333333333,
              "#9c179e"
             ],
             [
              0.4444444444444444,
              "#bd3786"
             ],
             [
              0.5555555555555556,
              "#d8576b"
             ],
             [
              0.6666666666666666,
              "#ed7953"
             ],
             [
              0.7777777777777778,
              "#fb9f3a"
             ],
             [
              0.8888888888888888,
              "#fdca26"
             ],
             [
              1,
              "#f0f921"
             ]
            ],
            "type": "heatmapgl"
           }
          ],
          "histogram": [
           {
            "marker": {
             "pattern": {
              "fillmode": "overlay",
              "size": 10,
              "solidity": 0.2
             }
            },
            "type": "histogram"
           }
          ],
          "histogram2d": [
           {
            "colorbar": {
             "outlinewidth": 0,
             "ticks": ""
            },
            "colorscale": [
             [
              0,
              "#0d0887"
             ],
             [
              0.1111111111111111,
              "#46039f"
             ],
             [
              0.2222222222222222,
              "#7201a8"
             ],
             [
              0.3333333333333333,
              "#9c179e"
             ],
             [
              0.4444444444444444,
              "#bd3786"
             ],
             [
              0.5555555555555556,
              "#d8576b"
             ],
             [
              0.6666666666666666,
              "#ed7953"
             ],
             [
              0.7777777777777778,
              "#fb9f3a"
             ],
             [
              0.8888888888888888,
              "#fdca26"
             ],
             [
              1,
              "#f0f921"
             ]
            ],
            "type": "histogram2d"
           }
          ],
          "histogram2dcontour": [
           {
            "colorbar": {
             "outlinewidth": 0,
             "ticks": ""
            },
            "colorscale": [
             [
              0,
              "#0d0887"
             ],
             [
              0.1111111111111111,
              "#46039f"
             ],
             [
              0.2222222222222222,
              "#7201a8"
             ],
             [
              0.3333333333333333,
              "#9c179e"
             ],
             [
              0.4444444444444444,
              "#bd3786"
             ],
             [
              0.5555555555555556,
              "#d8576b"
             ],
             [
              0.6666666666666666,
              "#ed7953"
             ],
             [
              0.7777777777777778,
              "#fb9f3a"
             ],
             [
              0.8888888888888888,
              "#fdca26"
             ],
             [
              1,
              "#f0f921"
             ]
            ],
            "type": "histogram2dcontour"
           }
          ],
          "mesh3d": [
           {
            "colorbar": {
             "outlinewidth": 0,
             "ticks": ""
            },
            "type": "mesh3d"
           }
          ],
          "parcoords": [
           {
            "line": {
             "colorbar": {
              "outlinewidth": 0,
              "ticks": ""
             }
            },
            "type": "parcoords"
           }
          ],
          "pie": [
           {
            "automargin": true,
            "type": "pie"
           }
          ],
          "scatter": [
           {
            "fillpattern": {
             "fillmode": "overlay",
             "size": 10,
             "solidity": 0.2
            },
            "type": "scatter"
           }
          ],
          "scatter3d": [
           {
            "line": {
             "colorbar": {
              "outlinewidth": 0,
              "ticks": ""
             }
            },
            "marker": {
             "colorbar": {
              "outlinewidth": 0,
              "ticks": ""
             }
            },
            "type": "scatter3d"
           }
          ],
          "scattercarpet": [
           {
            "marker": {
             "colorbar": {
              "outlinewidth": 0,
              "ticks": ""
             }
            },
            "type": "scattercarpet"
           }
          ],
          "scattergeo": [
           {
            "marker": {
             "colorbar": {
              "outlinewidth": 0,
              "ticks": ""
             }
            },
            "type": "scattergeo"
           }
          ],
          "scattergl": [
           {
            "marker": {
             "colorbar": {
              "outlinewidth": 0,
              "ticks": ""
             }
            },
            "type": "scattergl"
           }
          ],
          "scattermapbox": [
           {
            "marker": {
             "colorbar": {
              "outlinewidth": 0,
              "ticks": ""
             }
            },
            "type": "scattermapbox"
           }
          ],
          "scatterpolar": [
           {
            "marker": {
             "colorbar": {
              "outlinewidth": 0,
              "ticks": ""
             }
            },
            "type": "scatterpolar"
           }
          ],
          "scatterpolargl": [
           {
            "marker": {
             "colorbar": {
              "outlinewidth": 0,
              "ticks": ""
             }
            },
            "type": "scatterpolargl"
           }
          ],
          "scatterternary": [
           {
            "marker": {
             "colorbar": {
              "outlinewidth": 0,
              "ticks": ""
             }
            },
            "type": "scatterternary"
           }
          ],
          "surface": [
           {
            "colorbar": {
             "outlinewidth": 0,
             "ticks": ""
            },
            "colorscale": [
             [
              0,
              "#0d0887"
             ],
             [
              0.1111111111111111,
              "#46039f"
             ],
             [
              0.2222222222222222,
              "#7201a8"
             ],
             [
              0.3333333333333333,
              "#9c179e"
             ],
             [
              0.4444444444444444,
              "#bd3786"
             ],
             [
              0.5555555555555556,
              "#d8576b"
             ],
             [
              0.6666666666666666,
              "#ed7953"
             ],
             [
              0.7777777777777778,
              "#fb9f3a"
             ],
             [
              0.8888888888888888,
              "#fdca26"
             ],
             [
              1,
              "#f0f921"
             ]
            ],
            "type": "surface"
           }
          ],
          "table": [
           {
            "cells": {
             "fill": {
              "color": "#EBF0F8"
             },
             "line": {
              "color": "white"
             }
            },
            "header": {
             "fill": {
              "color": "#C8D4E3"
             },
             "line": {
              "color": "white"
             }
            },
            "type": "table"
           }
          ]
         },
         "layout": {
          "annotationdefaults": {
           "arrowcolor": "#2a3f5f",
           "arrowhead": 0,
           "arrowwidth": 1
          },
          "autotypenumbers": "strict",
          "coloraxis": {
           "colorbar": {
            "outlinewidth": 0,
            "ticks": ""
           }
          },
          "colorscale": {
           "diverging": [
            [
             0,
             "#8e0152"
            ],
            [
             0.1,
             "#c51b7d"
            ],
            [
             0.2,
             "#de77ae"
            ],
            [
             0.3,
             "#f1b6da"
            ],
            [
             0.4,
             "#fde0ef"
            ],
            [
             0.5,
             "#f7f7f7"
            ],
            [
             0.6,
             "#e6f5d0"
            ],
            [
             0.7,
             "#b8e186"
            ],
            [
             0.8,
             "#7fbc41"
            ],
            [
             0.9,
             "#4d9221"
            ],
            [
             1,
             "#276419"
            ]
           ],
           "sequential": [
            [
             0,
             "#0d0887"
            ],
            [
             0.1111111111111111,
             "#46039f"
            ],
            [
             0.2222222222222222,
             "#7201a8"
            ],
            [
             0.3333333333333333,
             "#9c179e"
            ],
            [
             0.4444444444444444,
             "#bd3786"
            ],
            [
             0.5555555555555556,
             "#d8576b"
            ],
            [
             0.6666666666666666,
             "#ed7953"
            ],
            [
             0.7777777777777778,
             "#fb9f3a"
            ],
            [
             0.8888888888888888,
             "#fdca26"
            ],
            [
             1,
             "#f0f921"
            ]
           ],
           "sequentialminus": [
            [
             0,
             "#0d0887"
            ],
            [
             0.1111111111111111,
             "#46039f"
            ],
            [
             0.2222222222222222,
             "#7201a8"
            ],
            [
             0.3333333333333333,
             "#9c179e"
            ],
            [
             0.4444444444444444,
             "#bd3786"
            ],
            [
             0.5555555555555556,
             "#d8576b"
            ],
            [
             0.6666666666666666,
             "#ed7953"
            ],
            [
             0.7777777777777778,
             "#fb9f3a"
            ],
            [
             0.8888888888888888,
             "#fdca26"
            ],
            [
             1,
             "#f0f921"
            ]
           ]
          },
          "colorway": [
           "#636efa",
           "#EF553B",
           "#00cc96",
           "#ab63fa",
           "#FFA15A",
           "#19d3f3",
           "#FF6692",
           "#B6E880",
           "#FF97FF",
           "#FECB52"
          ],
          "font": {
           "color": "#2a3f5f"
          },
          "geo": {
           "bgcolor": "white",
           "lakecolor": "white",
           "landcolor": "#E5ECF6",
           "showlakes": true,
           "showland": true,
           "subunitcolor": "white"
          },
          "hoverlabel": {
           "align": "left"
          },
          "hovermode": "closest",
          "mapbox": {
           "style": "light"
          },
          "paper_bgcolor": "white",
          "plot_bgcolor": "#E5ECF6",
          "polar": {
           "angularaxis": {
            "gridcolor": "white",
            "linecolor": "white",
            "ticks": ""
           },
           "bgcolor": "#E5ECF6",
           "radialaxis": {
            "gridcolor": "white",
            "linecolor": "white",
            "ticks": ""
           }
          },
          "scene": {
           "xaxis": {
            "backgroundcolor": "#E5ECF6",
            "gridcolor": "white",
            "gridwidth": 2,
            "linecolor": "white",
            "showbackground": true,
            "ticks": "",
            "zerolinecolor": "white"
           },
           "yaxis": {
            "backgroundcolor": "#E5ECF6",
            "gridcolor": "white",
            "gridwidth": 2,
            "linecolor": "white",
            "showbackground": true,
            "ticks": "",
            "zerolinecolor": "white"
           },
           "zaxis": {
            "backgroundcolor": "#E5ECF6",
            "gridcolor": "white",
            "gridwidth": 2,
            "linecolor": "white",
            "showbackground": true,
            "ticks": "",
            "zerolinecolor": "white"
           }
          },
          "shapedefaults": {
           "line": {
            "color": "#2a3f5f"
           }
          },
          "ternary": {
           "aaxis": {
            "gridcolor": "white",
            "linecolor": "white",
            "ticks": ""
           },
           "baxis": {
            "gridcolor": "white",
            "linecolor": "white",
            "ticks": ""
           },
           "bgcolor": "#E5ECF6",
           "caxis": {
            "gridcolor": "white",
            "linecolor": "white",
            "ticks": ""
           }
          },
          "title": {
           "x": 0.05
          },
          "xaxis": {
           "automargin": true,
           "gridcolor": "white",
           "linecolor": "white",
           "ticks": "",
           "title": {
            "standoff": 15
           },
           "zerolinecolor": "white",
           "zerolinewidth": 2
          },
          "yaxis": {
           "automargin": true,
           "gridcolor": "white",
           "linecolor": "white",
           "ticks": "",
           "title": {
            "standoff": 15
           },
           "zerolinecolor": "white",
           "zerolinewidth": 2
          }
         }
        },
        "title": {
         "text": "Candlestick Chart"
        },
        "xaxis": {
         "title": {
          "text": "Date"
         }
        },
        "yaxis": {
         "title": {
          "text": "Close Price"
         }
        }
       }
      },
      "text/html": [
       "<div>                            <div id=\"80fc32ba-9d12-4018-891d-edfb5dc3a736\" class=\"plotly-graph-div\" style=\"height:525px; width:100%;\"></div>            <script type=\"text/javascript\">                require([\"plotly\"], function(Plotly) {                    window.PLOTLYENV=window.PLOTLYENV || {};                                    if (document.getElementById(\"80fc32ba-9d12-4018-891d-edfb5dc3a736\")) {                    Plotly.newPlot(                        \"80fc32ba-9d12-4018-891d-edfb5dc3a736\",                        [{\"close\":[124.2163,125.4975,124.1666,128.7352,129.2616,129.8377,132.5788,132.4994,133.8402,135.0121,134.2871,134.3467,136.9289,140.1468,141.5571,140.8917,142.9774,144.9339,142.0239,143.3051,144.4373,149.7905,153.4454,150.6943,153.5944,150.883,149.8402,150.2082,153.0332,152.3866,154.5053,152.8939,151.7401,147.6917,148.1194,148.6068,145.9311,147.1346,146.6273,144.5385,145.1353,150.2281,153.0133,150.7951,152.0584,149.7905,147.7116,149.6711,151.7798,152.1777,155.0225,154.177,156.5643,158.4343,156.992,158.0862,159.3992,157.4396,156.813,159.9164,161.498,164.0245,165.2877,164.7506,162.8905,163.7858,161.1697,159.9463,159.25,164.681,164.3328,164.3527,165.5861,166.74,165.7652,164.1438,164.4522,162.9005,162.8905,167.5158,168.7791,168.6896,167.6452,166.5609,164.9098,172.6485,172.5788,170.858,172.6335,172.8275,171.8912,171.3932,171.3932,172.0107,174.3614,174.471,173.5148,170.8852,171.1641,172.3095,174.7399,176.6026,176.5528,179.3816,180.2382,178.8736,178.5051,177.1205,179.8597,180.2482,183.0671,182.5889,183.2264,185.2783,184.1926,184.2823,183.2364,186.2644,185.9457,184.5412,187.3203,188.5056,188.8442,193.207,191.703,190.5774,191.0555,189.93,187.8681,187.3402,189.0235,189.7905,189.9399,193.2269,192.968,194.3326,192.3703,191.185,191.9918,192.8584,193.7349,192.46,195.0597,195.6773,194.8356,191.8225,190.418,181.2741,178.1465,179.0928,177.4891,177.27,177.3298,178.9955,176.9907,176.113,173.5496,174.0383,175.3848,176.7712,180.6512,175.9234,178.1477,179.7236,183.6434,187.1643,187.3837,188.9696,189.209,182.4365,177.1004,177.7188,178.8957,175.8437,173.7591,175.2851,174.557,177.5093,178.6065,175.0357,173.4798,174.3376,175.6242,171.5149,169.9888,170.2482,170.7668,173.3003,171.9537,173.2105,174.4573,177.0306,178.5267,177.9282,179.3346,180.2422,178.3871,178.2574,176.6915,175.3848,175.0058,172.4325,172.5522,172.9911,170.6571,166.458,167.7846,169.8492,170.328,173.5197,177.1104,176.1927,178.7661,181.3494,182.4166,181.9378,186.1624,184.5645,187.2011,187.7704,189.4682,189.4483,191.206,190.397,191.0662,189.7279,189.5481,190.1573,189.1287,189.7079,190.9963,189.1886,193.1735,192.0749,194.0224,195.4606,192.9338,194.4619,197.7077,197.8575,197.3182,195.6404,196.689,194.5817,194.4319,193.3533,192.804,192.9038,193.3333,192.2846],\"high\":[124.2163,125.4975,124.1666,128.7352,129.2616,129.8377,132.5788,132.4994,133.8402,135.0121,134.2871,134.3467,136.9289,140.1468,141.5571,140.8917,142.9774,144.9339,142.0239,143.3051,144.4373,149.7905,153.4454,150.6943,153.5944,150.883,149.8402,150.2082,153.0332,152.3866,154.5053,152.8939,151.7401,147.6917,148.1194,148.6068,145.9311,147.1346,146.6273,144.5385,145.1353,150.2281,153.0133,150.7951,152.0584,149.7905,147.7116,149.6711,151.7798,152.1777,155.0225,154.177,156.5643,158.4343,156.992,158.0862,159.3992,157.4396,156.813,159.9164,161.498,164.0245,165.2877,164.7506,162.8905,163.7858,161.1697,159.9463,159.25,164.681,164.3328,164.3527,165.5861,166.74,165.7652,164.1438,164.4522,162.9005,162.8905,167.5158,168.7791,168.6896,167.6452,166.5609,164.9098,172.6485,172.5788,170.858,172.6335,172.8275,171.8912,171.3932,171.3932,172.0107,174.3614,174.471,173.5148,170.8852,171.1641,172.3095,174.7399,176.6026,176.5528,179.3816,180.2382,178.8736,178.5051,177.1205,179.8597,180.2482,183.0671,182.5889,183.2264,185.2783,184.1926,184.2823,183.2364,186.2644,185.9457,184.5412,187.3203,188.5056,188.8442,193.207,191.703,190.5774,191.0555,189.93,187.8681,187.3402,189.0235,189.7905,189.9399,193.2269,192.968,194.3326,192.3703,191.185,191.9918,192.8584,193.7349,192.46,195.0597,195.6773,194.8356,191.8225,190.418,181.2741,178.1465,179.0928,177.4891,177.27,177.3298,178.9955,176.9907,176.113,173.5496,174.0383,175.3848,176.7712,180.6512,175.9234,178.1477,179.7236,183.6434,187.1643,187.3837,188.9696,189.209,182.4365,177.1004,177.7188,178.8957,175.8437,173.7591,175.2851,174.557,177.5093,178.6065,175.0357,173.4798,174.3376,175.6242,171.5149,169.9888,170.2482,170.7668,173.3003,171.9537,173.2105,174.4573,177.0306,178.5267,177.9282,179.3346,180.2422,178.3871,178.2574,176.6915,175.3848,175.0058,172.4325,172.5522,172.9911,170.6571,166.458,167.7846,169.8492,170.328,173.5197,177.1104,176.1927,178.7661,181.3494,182.4166,181.9378,186.1624,184.5645,187.2011,187.7704,189.4682,189.4483,191.206,190.397,191.0662,189.7279,189.5481,190.1573,189.1287,189.7079,190.9963,189.1886,193.1735,192.0749,194.0224,195.4606,192.9338,194.4619,197.7077,197.8575,197.3182,195.6404,196.689,194.5817,194.4319,193.3533,192.804,192.9038,193.3333,192.2846],\"low\":[124.2163,125.4975,124.1666,128.7352,129.2616,129.8377,132.5788,132.4994,133.8402,135.0121,134.2871,134.3467,136.9289,140.1468,141.5571,140.8917,142.9774,144.9339,142.0239,143.3051,144.4373,149.7905,153.4454,150.6943,153.5944,150.883,149.8402,150.2082,153.0332,152.3866,154.5053,152.8939,151.7401,147.6917,148.1194,148.6068,145.9311,147.1346,146.6273,144.5385,145.1353,150.2281,153.0133,150.7951,152.0584,149.7905,147.7116,149.6711,151.7798,152.1777,155.0225,154.177,156.5643,158.4343,156.992,158.0862,159.3992,157.4396,156.813,159.9164,161.498,164.0245,165.2877,164.7506,162.8905,163.7858,161.1697,159.9463,159.25,164.681,164.3328,164.3527,165.5861,166.74,165.7652,164.1438,164.4522,162.9005,162.8905,167.5158,168.7791,168.6896,167.6452,166.5609,164.9098,172.6485,172.5788,170.858,172.6335,172.8275,171.8912,171.3932,171.3932,172.0107,174.3614,174.471,173.5148,170.8852,171.1641,172.3095,174.7399,176.6026,176.5528,179.3816,180.2382,178.8736,178.5051,177.1205,179.8597,180.2482,183.0671,182.5889,183.2264,185.2783,184.1926,184.2823,183.2364,186.2644,185.9457,184.5412,187.3203,188.5056,188.8442,193.207,191.703,190.5774,191.0555,189.93,187.8681,187.3402,189.0235,189.7905,189.9399,193.2269,192.968,194.3326,192.3703,191.185,191.9918,192.8584,193.7349,192.46,195.0597,195.6773,194.8356,191.8225,190.418,181.2741,178.1465,179.0928,177.4891,177.27,177.3298,178.9955,176.9907,176.113,173.5496,174.0383,175.3848,176.7712,180.6512,175.9234,178.1477,179.7236,183.6434,187.1643,187.3837,188.9696,189.209,182.4365,177.1004,177.7188,178.8957,175.8437,173.7591,175.2851,174.557,177.5093,178.6065,175.0357,173.4798,174.3376,175.6242,171.5149,169.9888,170.2482,170.7668,173.3003,171.9537,173.2105,174.4573,177.0306,178.5267,177.9282,179.3346,180.2422,178.3871,178.2574,176.6915,175.3848,175.0058,172.4325,172.5522,172.9911,170.6571,166.458,167.7846,169.8492,170.328,173.5197,177.1104,176.1927,178.7661,181.3494,182.4166,181.9378,186.1624,184.5645,187.2011,187.7704,189.4682,189.4483,191.206,190.397,191.0662,189.7279,189.5481,190.1573,189.1287,189.7079,190.9963,189.1886,193.1735,192.0749,194.0224,195.4606,192.9338,194.4619,197.7077,197.8575,197.3182,195.6404,196.689,194.5817,194.4319,193.3533,192.804,192.9038,193.3333,192.2846],\"open\":[124.2163,125.4975,124.1666,128.7352,129.2616,129.8377,132.5788,132.4994,133.8402,135.0121,134.2871,134.3467,136.9289,140.1468,141.5571,140.8917,142.9774,144.9339,142.0239,143.3051,144.4373,149.7905,153.4454,150.6943,153.5944,150.883,149.8402,150.2082,153.0332,152.3866,154.5053,152.8939,151.7401,147.6917,148.1194,148.6068,145.9311,147.1346,146.6273,144.5385,145.1353,150.2281,153.0133,150.7951,152.0584,149.7905,147.7116,149.6711,151.7798,152.1777,155.0225,154.177,156.5643,158.4343,156.992,158.0862,159.3992,157.4396,156.813,159.9164,161.498,164.0245,165.2877,164.7506,162.8905,163.7858,161.1697,159.9463,159.25,164.681,164.3328,164.3527,165.5861,166.74,165.7652,164.1438,164.4522,162.9005,162.8905,167.5158,168.7791,168.6896,167.6452,166.5609,164.9098,172.6485,172.5788,170.858,172.6335,172.8275,171.8912,171.3932,171.3932,172.0107,174.3614,174.471,173.5148,170.8852,171.1641,172.3095,174.7399,176.6026,176.5528,179.3816,180.2382,178.8736,178.5051,177.1205,179.8597,180.2482,183.0671,182.5889,183.2264,185.2783,184.1926,184.2823,183.2364,186.2644,185.9457,184.5412,187.3203,188.5056,188.8442,193.207,191.703,190.5774,191.0555,189.93,187.8681,187.3402,189.0235,189.7905,189.9399,193.2269,192.968,194.3326,192.3703,191.185,191.9918,192.8584,193.7349,192.46,195.0597,195.6773,194.8356,191.8225,190.418,181.2741,178.1465,179.0928,177.4891,177.27,177.3298,178.9955,176.9907,176.113,173.5496,174.0383,175.3848,176.7712,180.6512,175.9234,178.1477,179.7236,183.6434,187.1643,187.3837,188.9696,189.209,182.4365,177.1004,177.7188,178.8957,175.8437,173.7591,175.2851,174.557,177.5093,178.6065,175.0357,173.4798,174.3376,175.6242,171.5149,169.9888,170.2482,170.7668,173.3003,171.9537,173.2105,174.4573,177.0306,178.5267,177.9282,179.3346,180.2422,178.3871,178.2574,176.6915,175.3848,175.0058,172.4325,172.5522,172.9911,170.6571,166.458,167.7846,169.8492,170.328,173.5197,177.1104,176.1927,178.7661,181.3494,182.4166,181.9378,186.1624,184.5645,187.2011,187.7704,189.4682,189.4483,191.206,190.397,191.0662,189.7279,189.5481,190.1573,189.1287,189.7079,190.9963,189.1886,193.1735,192.0749,194.0224,195.4606,192.9338,194.4619,197.7077,197.8575,197.3182,195.6404,196.689,194.5817,194.4319,193.3533,192.804,192.9038,193.3333,192.2846],\"x\":[\"2023-01-03T00:00:00\",\"2023-01-04T00:00:00\",\"2023-01-05T00:00:00\",\"2023-01-06T00:00:00\",\"2023-01-09T00:00:00\",\"2023-01-10T00:00:00\",\"2023-01-11T00:00:00\",\"2023-01-12T00:00:00\",\"2023-01-13T00:00:00\",\"2023-01-17T00:00:00\",\"2023-01-18T00:00:00\",\"2023-01-19T00:00:00\",\"2023-01-20T00:00:00\",\"2023-01-23T00:00:00\",\"2023-01-24T00:00:00\",\"2023-01-25T00:00:00\",\"2023-01-26T00:00:00\",\"2023-01-27T00:00:00\",\"2023-01-30T00:00:00\",\"2023-01-31T00:00:00\",\"2023-02-01T00:00:00\",\"2023-02-02T00:00:00\",\"2023-02-03T00:00:00\",\"2023-02-06T00:00:00\",\"2023-02-07T00:00:00\",\"2023-02-08T00:00:00\",\"2023-02-09T00:00:00\",\"2023-02-10T00:00:00\",\"2023-02-13T00:00:00\",\"2023-02-14T00:00:00\",\"2023-02-15T00:00:00\",\"2023-02-16T00:00:00\",\"2023-02-17T00:00:00\",\"2023-02-21T00:00:00\",\"2023-02-22T00:00:00\",\"2023-02-23T00:00:00\",\"2023-02-24T00:00:00\",\"2023-02-27T00:00:00\",\"2023-02-28T00:00:00\",\"2023-03-01T00:00:00\",\"2023-03-02T00:00:00\",\"2023-03-03T00:00:00\",\"2023-03-06T00:00:00\",\"2023-03-07T00:00:00\",\"2023-03-08T00:00:00\",\"2023-03-09T00:00:00\",\"2023-03-10T00:00:00\",\"2023-03-13T00:00:00\",\"2023-03-14T00:00:00\",\"2023-03-15T00:00:00\",\"2023-03-16T00:00:00\",\"2023-03-17T00:00:00\",\"2023-03-20T00:00:00\",\"2023-03-21T00:00:00\",\"2023-03-22T00:00:00\",\"2023-03-23T00:00:00\",\"2023-03-24T00:00:00\",\"2023-03-27T00:00:00\",\"2023-03-28T00:00:00\",\"2023-03-29T00:00:00\",\"2023-03-30T00:00:00\",\"2023-03-31T00:00:00\",\"2023-04-03T00:00:00\",\"2023-04-04T00:00:00\",\"2023-04-05T00:00:00\",\"2023-04-06T00:00:00\",\"2023-04-10T00:00:00\",\"2023-04-11T00:00:00\",\"2023-04-12T00:00:00\",\"2023-04-13T00:00:00\",\"2023-04-14T00:00:00\",\"2023-04-17T00:00:00\",\"2023-04-18T00:00:00\",\"2023-04-19T00:00:00\",\"2023-04-20T00:00:00\",\"2023-04-21T00:00:00\",\"2023-04-24T00:00:00\",\"2023-04-25T00:00:00\",\"2023-04-26T00:00:00\",\"2023-04-27T00:00:00\",\"2023-04-28T00:00:00\",\"2023-05-01T00:00:00\",\"2023-05-02T00:00:00\",\"2023-05-03T00:00:00\",\"2023-05-04T00:00:00\",\"2023-05-05T00:00:00\",\"2023-05-08T00:00:00\",\"2023-05-09T00:00:00\",\"2023-05-10T00:00:00\",\"2023-05-11T00:00:00\",\"2023-05-12T00:00:00\",\"2023-05-15T00:00:00\",\"2023-05-16T00:00:00\",\"2023-05-17T00:00:00\",\"2023-05-18T00:00:00\",\"2023-05-19T00:00:00\",\"2023-05-22T00:00:00\",\"2023-05-23T00:00:00\",\"2023-05-24T00:00:00\",\"2023-05-25T00:00:00\",\"2023-05-26T00:00:00\",\"2023-05-30T00:00:00\",\"2023-05-31T00:00:00\",\"2023-06-01T00:00:00\",\"2023-06-02T00:00:00\",\"2023-06-05T00:00:00\",\"2023-06-06T00:00:00\",\"2023-06-07T00:00:00\",\"2023-06-08T00:00:00\",\"2023-06-09T00:00:00\",\"2023-06-12T00:00:00\",\"2023-06-13T00:00:00\",\"2023-06-14T00:00:00\",\"2023-06-15T00:00:00\",\"2023-06-16T00:00:00\",\"2023-06-20T00:00:00\",\"2023-06-21T00:00:00\",\"2023-06-22T00:00:00\",\"2023-06-23T00:00:00\",\"2023-06-26T00:00:00\",\"2023-06-27T00:00:00\",\"2023-06-28T00:00:00\",\"2023-06-29T00:00:00\",\"2023-06-30T00:00:00\",\"2023-07-03T00:00:00\",\"2023-07-05T00:00:00\",\"2023-07-06T00:00:00\",\"2023-07-07T00:00:00\",\"2023-07-10T00:00:00\",\"2023-07-11T00:00:00\",\"2023-07-12T00:00:00\",\"2023-07-13T00:00:00\",\"2023-07-14T00:00:00\",\"2023-07-17T00:00:00\",\"2023-07-18T00:00:00\",\"2023-07-19T00:00:00\",\"2023-07-20T00:00:00\",\"2023-07-21T00:00:00\",\"2023-07-24T00:00:00\",\"2023-07-25T00:00:00\",\"2023-07-26T00:00:00\",\"2023-07-27T00:00:00\",\"2023-07-28T00:00:00\",\"2023-07-31T00:00:00\",\"2023-08-01T00:00:00\",\"2023-08-02T00:00:00\",\"2023-08-03T00:00:00\",\"2023-08-04T00:00:00\",\"2023-08-07T00:00:00\",\"2023-08-08T00:00:00\",\"2023-08-09T00:00:00\",\"2023-08-10T00:00:00\",\"2023-08-11T00:00:00\",\"2023-08-14T00:00:00\",\"2023-08-15T00:00:00\",\"2023-08-16T00:00:00\",\"2023-08-17T00:00:00\",\"2023-08-18T00:00:00\",\"2023-08-21T00:00:00\",\"2023-08-22T00:00:00\",\"2023-08-23T00:00:00\",\"2023-08-24T00:00:00\",\"2023-08-25T00:00:00\",\"2023-08-28T00:00:00\",\"2023-08-29T00:00:00\",\"2023-08-30T00:00:00\",\"2023-08-31T00:00:00\",\"2023-09-01T00:00:00\",\"2023-09-05T00:00:00\",\"2023-09-06T00:00:00\",\"2023-09-07T00:00:00\",\"2023-09-08T00:00:00\",\"2023-09-11T00:00:00\",\"2023-09-12T00:00:00\",\"2023-09-13T00:00:00\",\"2023-09-14T00:00:00\",\"2023-09-15T00:00:00\",\"2023-09-18T00:00:00\",\"2023-09-19T00:00:00\",\"2023-09-20T00:00:00\",\"2023-09-21T00:00:00\",\"2023-09-22T00:00:00\",\"2023-09-25T00:00:00\",\"2023-09-26T00:00:00\",\"2023-09-27T00:00:00\",\"2023-09-28T00:00:00\",\"2023-09-29T00:00:00\",\"2023-10-02T00:00:00\",\"2023-10-03T00:00:00\",\"2023-10-04T00:00:00\",\"2023-10-05T00:00:00\",\"2023-10-06T00:00:00\",\"2023-10-09T00:00:00\",\"2023-10-10T00:00:00\",\"2023-10-11T00:00:00\",\"2023-10-12T00:00:00\",\"2023-10-13T00:00:00\",\"2023-10-16T00:00:00\",\"2023-10-17T00:00:00\",\"2023-10-18T00:00:00\",\"2023-10-19T00:00:00\",\"2023-10-20T00:00:00\",\"2023-10-23T00:00:00\",\"2023-10-24T00:00:00\",\"2023-10-25T00:00:00\",\"2023-10-26T00:00:00\",\"2023-10-27T00:00:00\",\"2023-10-30T00:00:00\",\"2023-10-31T00:00:00\",\"2023-11-01T00:00:00\",\"2023-11-02T00:00:00\",\"2023-11-03T00:00:00\",\"2023-11-06T00:00:00\",\"2023-11-07T00:00:00\",\"2023-11-08T00:00:00\",\"2023-11-09T00:00:00\",\"2023-11-10T00:00:00\",\"2023-11-13T00:00:00\",\"2023-11-14T00:00:00\",\"2023-11-15T00:00:00\",\"2023-11-16T00:00:00\",\"2023-11-17T00:00:00\",\"2023-11-20T00:00:00\",\"2023-11-21T00:00:00\",\"2023-11-22T00:00:00\",\"2023-11-24T00:00:00\",\"2023-11-27T00:00:00\",\"2023-11-28T00:00:00\",\"2023-11-29T00:00:00\",\"2023-11-30T00:00:00\",\"2023-12-01T00:00:00\",\"2023-12-04T00:00:00\",\"2023-12-05T00:00:00\",\"2023-12-06T00:00:00\",\"2023-12-07T00:00:00\",\"2023-12-08T00:00:00\",\"2023-12-11T00:00:00\",\"2023-12-12T00:00:00\",\"2023-12-13T00:00:00\",\"2023-12-14T00:00:00\",\"2023-12-15T00:00:00\",\"2023-12-18T00:00:00\",\"2023-12-19T00:00:00\",\"2023-12-20T00:00:00\",\"2023-12-21T00:00:00\",\"2023-12-22T00:00:00\",\"2023-12-26T00:00:00\",\"2023-12-27T00:00:00\",\"2023-12-28T00:00:00\",\"2023-12-29T00:00:00\"],\"type\":\"candlestick\"}],                        {\"template\":{\"data\":{\"histogram2dcontour\":[{\"type\":\"histogram2dcontour\",\"colorbar\":{\"outlinewidth\":0,\"ticks\":\"\"},\"colorscale\":[[0.0,\"#0d0887\"],[0.1111111111111111,\"#46039f\"],[0.2222222222222222,\"#7201a8\"],[0.3333333333333333,\"#9c179e\"],[0.4444444444444444,\"#bd3786\"],[0.5555555555555556,\"#d8576b\"],[0.6666666666666666,\"#ed7953\"],[0.7777777777777778,\"#fb9f3a\"],[0.8888888888888888,\"#fdca26\"],[1.0,\"#f0f921\"]]}],\"choropleth\":[{\"type\":\"choropleth\",\"colorbar\":{\"outlinewidth\":0,\"ticks\":\"\"}}],\"histogram2d\":[{\"type\":\"histogram2d\",\"colorbar\":{\"outlinewidth\":0,\"ticks\":\"\"},\"colorscale\":[[0.0,\"#0d0887\"],[0.1111111111111111,\"#46039f\"],[0.2222222222222222,\"#7201a8\"],[0.3333333333333333,\"#9c179e\"],[0.4444444444444444,\"#bd3786\"],[0.5555555555555556,\"#d8576b\"],[0.6666666666666666,\"#ed7953\"],[0.7777777777777778,\"#fb9f3a\"],[0.8888888888888888,\"#fdca26\"],[1.0,\"#f0f921\"]]}],\"heatmap\":[{\"type\":\"heatmap\",\"colorbar\":{\"outlinewidth\":0,\"ticks\":\"\"},\"colorscale\":[[0.0,\"#0d0887\"],[0.1111111111111111,\"#46039f\"],[0.2222222222222222,\"#7201a8\"],[0.3333333333333333,\"#9c179e\"],[0.4444444444444444,\"#bd3786\"],[0.5555555555555556,\"#d8576b\"],[0.6666666666666666,\"#ed7953\"],[0.7777777777777778,\"#fb9f3a\"],[0.8888888888888888,\"#fdca26\"],[1.0,\"#f0f921\"]]}],\"heatmapgl\":[{\"type\":\"heatmapgl\",\"colorbar\":{\"outlinewidth\":0,\"ticks\":\"\"},\"colorscale\":[[0.0,\"#0d0887\"],[0.1111111111111111,\"#46039f\"],[0.2222222222222222,\"#7201a8\"],[0.3333333333333333,\"#9c179e\"],[0.4444444444444444,\"#bd3786\"],[0.5555555555555556,\"#d8576b\"],[0.6666666666666666,\"#ed7953\"],[0.7777777777777778,\"#fb9f3a\"],[0.8888888888888888,\"#fdca26\"],[1.0,\"#f0f921\"]]}],\"contourcarpet\":[{\"type\":\"contourcarpet\",\"colorbar\":{\"outlinewidth\":0,\"ticks\":\"\"}}],\"contour\":[{\"type\":\"contour\",\"colorbar\":{\"outlinewidth\":0,\"ticks\":\"\"},\"colorscale\":[[0.0,\"#0d0887\"],[0.1111111111111111,\"#46039f\"],[0.2222222222222222,\"#7201a8\"],[0.3333333333333333,\"#9c179e\"],[0.4444444444444444,\"#bd3786\"],[0.5555555555555556,\"#d8576b\"],[0.6666666666666666,\"#ed7953\"],[0.7777777777777778,\"#fb9f3a\"],[0.8888888888888888,\"#fdca26\"],[1.0,\"#f0f921\"]]}],\"surface\":[{\"type\":\"surface\",\"colorbar\":{\"outlinewidth\":0,\"ticks\":\"\"},\"colorscale\":[[0.0,\"#0d0887\"],[0.1111111111111111,\"#46039f\"],[0.2222222222222222,\"#7201a8\"],[0.3333333333333333,\"#9c179e\"],[0.4444444444444444,\"#bd3786\"],[0.5555555555555556,\"#d8576b\"],[0.6666666666666666,\"#ed7953\"],[0.7777777777777778,\"#fb9f3a\"],[0.8888888888888888,\"#fdca26\"],[1.0,\"#f0f921\"]]}],\"mesh3d\":[{\"type\":\"mesh3d\",\"colorbar\":{\"outlinewidth\":0,\"ticks\":\"\"}}],\"scatter\":[{\"fillpattern\":{\"fillmode\":\"overlay\",\"size\":10,\"solidity\":0.2},\"type\":\"scatter\"}],\"parcoords\":[{\"type\":\"parcoords\",\"line\":{\"colorbar\":{\"outlinewidth\":0,\"ticks\":\"\"}}}],\"scatterpolargl\":[{\"type\":\"scatterpolargl\",\"marker\":{\"colorbar\":{\"outlinewidth\":0,\"ticks\":\"\"}}}],\"bar\":[{\"error_x\":{\"color\":\"#2a3f5f\"},\"error_y\":{\"color\":\"#2a3f5f\"},\"marker\":{\"line\":{\"color\":\"#E5ECF6\",\"width\":0.5},\"pattern\":{\"fillmode\":\"overlay\",\"size\":10,\"solidity\":0.2}},\"type\":\"bar\"}],\"scattergeo\":[{\"type\":\"scattergeo\",\"marker\":{\"colorbar\":{\"outlinewidth\":0,\"ticks\":\"\"}}}],\"scatterpolar\":[{\"type\":\"scatterpolar\",\"marker\":{\"colorbar\":{\"outlinewidth\":0,\"ticks\":\"\"}}}],\"histogram\":[{\"marker\":{\"pattern\":{\"fillmode\":\"overlay\",\"size\":10,\"solidity\":0.2}},\"type\":\"histogram\"}],\"scattergl\":[{\"type\":\"scattergl\",\"marker\":{\"colorbar\":{\"outlinewidth\":0,\"ticks\":\"\"}}}],\"scatter3d\":[{\"type\":\"scatter3d\",\"line\":{\"colorbar\":{\"outlinewidth\":0,\"ticks\":\"\"}},\"marker\":{\"colorbar\":{\"outlinewidth\":0,\"ticks\":\"\"}}}],\"scattermapbox\":[{\"type\":\"scattermapbox\",\"marker\":{\"colorbar\":{\"outlinewidth\":0,\"ticks\":\"\"}}}],\"scatterternary\":[{\"type\":\"scatterternary\",\"marker\":{\"colorbar\":{\"outlinewidth\":0,\"ticks\":\"\"}}}],\"scattercarpet\":[{\"type\":\"scattercarpet\",\"marker\":{\"colorbar\":{\"outlinewidth\":0,\"ticks\":\"\"}}}],\"carpet\":[{\"aaxis\":{\"endlinecolor\":\"#2a3f5f\",\"gridcolor\":\"white\",\"linecolor\":\"white\",\"minorgridcolor\":\"white\",\"startlinecolor\":\"#2a3f5f\"},\"baxis\":{\"endlinecolor\":\"#2a3f5f\",\"gridcolor\":\"white\",\"linecolor\":\"white\",\"minorgridcolor\":\"white\",\"startlinecolor\":\"#2a3f5f\"},\"type\":\"carpet\"}],\"table\":[{\"cells\":{\"fill\":{\"color\":\"#EBF0F8\"},\"line\":{\"color\":\"white\"}},\"header\":{\"fill\":{\"color\":\"#C8D4E3\"},\"line\":{\"color\":\"white\"}},\"type\":\"table\"}],\"barpolar\":[{\"marker\":{\"line\":{\"color\":\"#E5ECF6\",\"width\":0.5},\"pattern\":{\"fillmode\":\"overlay\",\"size\":10,\"solidity\":0.2}},\"type\":\"barpolar\"}],\"pie\":[{\"automargin\":true,\"type\":\"pie\"}]},\"layout\":{\"autotypenumbers\":\"strict\",\"colorway\":[\"#636efa\",\"#EF553B\",\"#00cc96\",\"#ab63fa\",\"#FFA15A\",\"#19d3f3\",\"#FF6692\",\"#B6E880\",\"#FF97FF\",\"#FECB52\"],\"font\":{\"color\":\"#2a3f5f\"},\"hovermode\":\"closest\",\"hoverlabel\":{\"align\":\"left\"},\"paper_bgcolor\":\"white\",\"plot_bgcolor\":\"#E5ECF6\",\"polar\":{\"bgcolor\":\"#E5ECF6\",\"angularaxis\":{\"gridcolor\":\"white\",\"linecolor\":\"white\",\"ticks\":\"\"},\"radialaxis\":{\"gridcolor\":\"white\",\"linecolor\":\"white\",\"ticks\":\"\"}},\"ternary\":{\"bgcolor\":\"#E5ECF6\",\"aaxis\":{\"gridcolor\":\"white\",\"linecolor\":\"white\",\"ticks\":\"\"},\"baxis\":{\"gridcolor\":\"white\",\"linecolor\":\"white\",\"ticks\":\"\"},\"caxis\":{\"gridcolor\":\"white\",\"linecolor\":\"white\",\"ticks\":\"\"}},\"coloraxis\":{\"colorbar\":{\"outlinewidth\":0,\"ticks\":\"\"}},\"colorscale\":{\"sequential\":[[0.0,\"#0d0887\"],[0.1111111111111111,\"#46039f\"],[0.2222222222222222,\"#7201a8\"],[0.3333333333333333,\"#9c179e\"],[0.4444444444444444,\"#bd3786\"],[0.5555555555555556,\"#d8576b\"],[0.6666666666666666,\"#ed7953\"],[0.7777777777777778,\"#fb9f3a\"],[0.8888888888888888,\"#fdca26\"],[1.0,\"#f0f921\"]],\"sequentialminus\":[[0.0,\"#0d0887\"],[0.1111111111111111,\"#46039f\"],[0.2222222222222222,\"#7201a8\"],[0.3333333333333333,\"#9c179e\"],[0.4444444444444444,\"#bd3786\"],[0.5555555555555556,\"#d8576b\"],[0.6666666666666666,\"#ed7953\"],[0.7777777777777778,\"#fb9f3a\"],[0.8888888888888888,\"#fdca26\"],[1.0,\"#f0f921\"]],\"diverging\":[[0,\"#8e0152\"],[0.1,\"#c51b7d\"],[0.2,\"#de77ae\"],[0.3,\"#f1b6da\"],[0.4,\"#fde0ef\"],[0.5,\"#f7f7f7\"],[0.6,\"#e6f5d0\"],[0.7,\"#b8e186\"],[0.8,\"#7fbc41\"],[0.9,\"#4d9221\"],[1,\"#276419\"]]},\"xaxis\":{\"gridcolor\":\"white\",\"linecolor\":\"white\",\"ticks\":\"\",\"title\":{\"standoff\":15},\"zerolinecolor\":\"white\",\"automargin\":true,\"zerolinewidth\":2},\"yaxis\":{\"gridcolor\":\"white\",\"linecolor\":\"white\",\"ticks\":\"\",\"title\":{\"standoff\":15},\"zerolinecolor\":\"white\",\"automargin\":true,\"zerolinewidth\":2},\"scene\":{\"xaxis\":{\"backgroundcolor\":\"#E5ECF6\",\"gridcolor\":\"white\",\"linecolor\":\"white\",\"showbackground\":true,\"ticks\":\"\",\"zerolinecolor\":\"white\",\"gridwidth\":2},\"yaxis\":{\"backgroundcolor\":\"#E5ECF6\",\"gridcolor\":\"white\",\"linecolor\":\"white\",\"showbackground\":true,\"ticks\":\"\",\"zerolinecolor\":\"white\",\"gridwidth\":2},\"zaxis\":{\"backgroundcolor\":\"#E5ECF6\",\"gridcolor\":\"white\",\"linecolor\":\"white\",\"showbackground\":true,\"ticks\":\"\",\"zerolinecolor\":\"white\",\"gridwidth\":2}},\"shapedefaults\":{\"line\":{\"color\":\"#2a3f5f\"}},\"annotationdefaults\":{\"arrowcolor\":\"#2a3f5f\",\"arrowhead\":0,\"arrowwidth\":1},\"geo\":{\"bgcolor\":\"white\",\"landcolor\":\"#E5ECF6\",\"subunitcolor\":\"white\",\"showland\":true,\"showlakes\":true,\"lakecolor\":\"white\"},\"title\":{\"x\":0.05},\"mapbox\":{\"style\":\"light\"}}},\"title\":{\"text\":\"Candlestick Chart\"},\"xaxis\":{\"title\":{\"text\":\"Date\"}},\"yaxis\":{\"title\":{\"text\":\"Close Price\"}}},                        {\"responsive\": true}                    ).then(function(){\n",
       "                            \n",
       "var gd = document.getElementById('80fc32ba-9d12-4018-891d-edfb5dc3a736');\n",
       "var x = new MutationObserver(function (mutations, observer) {{\n",
       "        var display = window.getComputedStyle(gd).display;\n",
       "        if (!display || display === 'none') {{\n",
       "            console.log([gd, 'removed!']);\n",
       "            Plotly.purge(gd);\n",
       "            observer.disconnect();\n",
       "        }}\n",
       "}});\n",
       "\n",
       "// Listen for the removal of the full notebook cells\n",
       "var notebookContainer = gd.closest('#notebook-container');\n",
       "if (notebookContainer) {{\n",
       "    x.observe(notebookContainer, {childList: true});\n",
       "}}\n",
       "\n",
       "// Listen for the clearing of the current output cell\n",
       "var outputEl = gd.closest('.output');\n",
       "if (outputEl) {{\n",
       "    x.observe(outputEl, {childList: true});\n",
       "}}\n",
       "\n",
       "                        })                };                });            </script>        </div>"
      ]
     },
     "metadata": {},
     "output_type": "display_data"
    }
   ],
   "source": [
    "import plotly.graph_objects as go\n",
    "\n",
    "fig = go.Figure(data=[go.Candlestick(x=df['Date'],\n",
    "                open=df['FIBBG000B9XRY4'],\n",
    "                high=df['FIBBG000B9XRY4'],\n",
    "                low=df['FIBBG000B9XRY4'],\n",
    "                close=df['FIBBG000B9XRY4'])])\n",
    "\n",
    "fig.update_layout(title='Candlestick Chart', xaxis_title='Date', yaxis_title='Close Price')\n",
    "fig.show()"
   ]
  },
  {
   "cell_type": "code",
   "execution_count": 92,
   "id": "146661ab-a3f2-4f43-aede-083d924a65d4",
   "metadata": {
    "tags": []
   },
   "outputs": [
    {
     "name": "stdout",
     "output_type": "stream",
     "text": [
      "Sid               FIBBG000B9XRY4  Returns                Decision\n",
      "Field Date                                                       \n",
      "Close 2023-01-03        124.2163      NaN  Do not place buy order\n",
      "      2023-01-04        125.4975      NaN  Do not place buy order\n",
      "      2023-01-05        124.1666      NaN  Do not place buy order\n",
      "      2023-01-06        128.7352      NaN  Do not place buy order\n",
      "      2023-01-09        129.2616      NaN  Do not place buy order\n",
      "...                          ...      ...                     ...\n",
      "      2023-12-22        193.3533      NaN  Do not place buy order\n",
      "      2023-12-26        192.8040      NaN  Do not place buy order\n",
      "      2023-12-27        192.9038      NaN  Do not place buy order\n",
      "      2023-12-28        193.3333      NaN  Do not place buy order\n",
      "      2023-12-29        192.2846      NaN  Do not place buy order\n",
      "\n",
      "[250 rows x 3 columns]\n"
     ]
    }
   ],
   "source": [
    "prices['Returns'] = prices['FIBBG000B9XRY4']['Close'].pct_change()\n",
    "\n",
    "def decide_buy_order(returns):\n",
    "    if returns > 0:\n",
    "        return \"Place buy order\"\n",
    "    else:\n",
    "        return \"Do not place buy order\"\n",
    "\n",
    "prices['Decision'] = prices['Returns'].apply(decide_buy_order)\n",
    "\n",
    "print(prices)"
   ]
  },
  {
   "cell_type": "code",
   "execution_count": 93,
   "id": "c68689d6-4880-4df4-b286-b95214d4eaf3",
   "metadata": {
    "tags": []
   },
   "outputs": [
    {
     "name": "stdout",
     "output_type": "stream",
     "text": [
      "Sid               FIBBG000B9XRY4  Returns  Buy_Signal  Position  \\\n",
      "Field Date                                                        \n",
      "Close 2023-01-03        124.2163      NaN       False       NaN   \n",
      "      2023-01-04        125.4975      NaN       False       0.0   \n",
      "      2023-01-05        124.1666      NaN       False       0.0   \n",
      "      2023-01-06        128.7352      NaN       False       0.0   \n",
      "      2023-01-09        129.2616      NaN       False       0.0   \n",
      "...                          ...      ...         ...       ...   \n",
      "      2023-12-22        193.3533      NaN       False       0.0   \n",
      "      2023-12-26        192.8040      NaN       False       0.0   \n",
      "      2023-12-27        192.9038      NaN       False       0.0   \n",
      "      2023-12-28        193.3333      NaN       False       0.0   \n",
      "      2023-12-29        192.2846      NaN       False       0.0   \n",
      "\n",
      "Sid               Portfolio_Value  \n",
      "Field Date                         \n",
      "Close 2023-01-03              NaN  \n",
      "      2023-01-04              NaN  \n",
      "      2023-01-05              NaN  \n",
      "      2023-01-06              NaN  \n",
      "      2023-01-09              NaN  \n",
      "...                           ...  \n",
      "      2023-12-22              NaN  \n",
      "      2023-12-26              NaN  \n",
      "      2023-12-27              NaN  \n",
      "      2023-12-28              NaN  \n",
      "      2023-12-29              NaN  \n",
      "\n",
      "[250 rows x 5 columns]\n"
     ]
    }
   ],
   "source": [
    "prices['Returns'] = prices['FIBBG000B9XRY4']['Close'].pct_change()\n",
    "\n",
    "prices['Buy_Signal'] = prices['Returns'] > 0\n",
    "\n",
    "prices['Position'] = 0\n",
    "\n",
    "prices.loc[prices['Buy_Signal'], 'Position'] = 1\n",
    "\n",
    "prices['Position'] = prices['Position'].shift(1)\n",
    "\n",
    "initial_investment = 100000\n",
    "\n",
    "prices['Portfolio_Value'] = initial_investment * (1 + prices['Returns']).cumprod()\n",
    "\n",
    "print(prices[['FIBBG000B9XRY4', 'Returns', 'Buy_Signal', 'Position', 'Portfolio_Value']])"
   ]
  },
  {
   "cell_type": "code",
   "execution_count": 94,
   "id": "25e28a30-008b-43bf-a42b-37d8572f954c",
   "metadata": {
    "tags": []
   },
   "outputs": [],
   "source": [
    "def maximize_portfolio_value(prices):\n",
    "    portfolio_value = 100000  \n",
    "    portfolio_shares = 0  \n",
    "\n",
    "    for i in range(len(prices) - 1):\n",
    "        current_price = prices[i]\n",
    "        next_price = prices[i + 1]\n",
    "        returns = (next_price - current_price) / current_price\n",
    "\n",
    "        if returns > 0:\n",
    "            shares_to_buy = portfolio_value * returns / current_price\n",
    "            portfolio_shares += shares_to_buy\n",
    "            portfolio_value -= shares_to_buy * current_price\n",
    "\n",
    "    return portfolio_value\n"
   ]
  },
  {
   "cell_type": "code",
   "execution_count": 95,
   "id": "37e572a0-7d3f-49eb-84e5-73eb1271f4f3",
   "metadata": {
    "tags": []
   },
   "outputs": [
    {
     "data": {
      "text/plain": [
       "23380.46724968913"
      ]
     },
     "execution_count": 95,
     "metadata": {},
     "output_type": "execute_result"
    }
   ],
   "source": [
    "df = pd.read_csv('stock_prices.csv')\n",
    "maximize_portfolio_value(df['FIBBG000B9XRY4'])"
   ]
  },
  {
   "cell_type": "code",
   "execution_count": 96,
   "id": "62e96efe-8bcb-4964-8d86-b351a8bdb0f6",
   "metadata": {
    "tags": []
   },
   "outputs": [],
   "source": [
    "import numpy as np"
   ]
  },
  {
   "cell_type": "markdown",
   "id": "f456aa69-7feb-47db-b55f-1ed326e18fa3",
   "metadata": {},
   "source": [
    "**Calculating Portfolio Value , Transition Porbability Matrix and Optimal buy indices**"
   ]
  },
  {
   "cell_type": "code",
   "execution_count": 97,
   "id": "32d7df8e-1c58-4ac1-bb12-71b4993c96e9",
   "metadata": {},
   "outputs": [
    {
     "name": "stdout",
     "output_type": "stream",
     "text": [
      "Final Portfolio Value: 17\n",
      "Transition Distribution:\n",
      "[[0.14285714 0.74285714 0.11428571]\n",
      " [0.14649682 0.59872611 0.25477707]\n",
      " [0.125      0.67857143 0.19642857]]\n"
     ]
    }
   ],
   "source": [
    "\n",
    "\n",
    "def calculate_returns(price_history):\n",
    "    returns = np.diff(price_history) / price_history[:-1]\n",
    "    return returns\n",
    "\n",
    "def classify_state(returns):\n",
    "    states = np.zeros(len(returns))\n",
    "    states[returns >= 0.01] = 1\n",
    "    states[(returns > -0.01) & (returns < 0.01)] = 0\n",
    "    states[returns <= -0.01] = -1\n",
    "    return states\n",
    "\n",
    "def calculate_transition_distribution(states):\n",
    "    transition_matrix = np.zeros((3, 3))\n",
    "\n",
    "    for i in range(1, len(states)):\n",
    "        current_state = int(states[i-1] + 1)\n",
    "        next_state = int(states[i] + 1)\n",
    "        transition_matrix[current_state, next_state] += 1\n",
    "\n",
    "    transition_distribution = transition_matrix / np.sum(transition_matrix, axis=1, keepdims=True)\n",
    "    return transition_distribution\n",
    "\n",
    "def maximize_portfolio_value(price_history):\n",
    "    returns = calculate_returns(price_history)\n",
    "    states = classify_state(returns)\n",
    "    portfolio_value = 0\n",
    "    states = list(states)\n",
    "    states.insert(0, 1)\n",
    "    returns = list(returns)\n",
    "    returns.insert(0, 0)\n",
    "    df[\"States\"] = list(states)\n",
    "    df[\"Returns\"] = list(returns)\n",
    "\n",
    "    Value = [0]\n",
    "\n",
    "    for i in range(1, len(states)):\n",
    "        if states[i] == 1 and states[i-1] == 0:\n",
    "            portfolio_value += 1\n",
    "            Value.append(portfolio_value)\n",
    "        elif states[i] == -1 and states[i-1] == 0:\n",
    "            portfolio_value -= 1\n",
    "            Value.append(portfolio_value)\n",
    "        else:\n",
    "          Value.append(portfolio_value)\n",
    "\n",
    "    df[\"Value\"] = Value\n",
    "\n",
    "    return portfolio_value\n",
    "\n",
    "\n",
    "price_history = list(df[\"FIBBG000B9XRY4\"])\n",
    "\n",
    "final_portfolio_value = maximize_portfolio_value(price_history)\n",
    "print(\"Final Portfolio Value:\", final_portfolio_value)\n",
    "\n",
    "transition_distribution = calculate_transition_distribution(classify_state(calculate_returns(price_history)))\n",
    "print(\"Transition Distribution:\")\n",
    "print(transition_distribution)\n",
    "\n"
   ]
  },
  {
   "cell_type": "code",
   "execution_count": 98,
   "id": "b9e99e82-cde9-4b0a-9ee4-e2cd1878b973",
   "metadata": {
    "tags": []
   },
   "outputs": [
    {
     "name": "stdout",
     "output_type": "stream",
     "text": [
      "Optimal Buy Indices: [5, 7, 11, 15, 20, 27, 29, 40, 49, 51, 58, 60, 68, 78, 84, 87, 93, 99, 102, 107, 109, 112, 116, 119, 122, 132, 141, 159, 163, 176, 186, 190, 206, 208, 211, 215, 217, 231, 233, 237]\n"
     ]
    }
   ],
   "source": [
    "def calculate_returns(price_history):\n",
    "    returns = np.diff(price_history) / price_history[:-1]\n",
    "    return returns\n",
    "def state_classification(returns):\n",
    "    states = np.zeros(len(returns))\n",
    "    for i in range(0, len(returns)):\n",
    "        if returns[i] >= 0.01:\n",
    "            states[i] = 1\n",
    "        elif returns[i] > -0.01:\n",
    "            states[i] = 0\n",
    "        else :\n",
    "            states[i] = -1\n",
    "    return states\n",
    "\n",
    "def value_function(states):\n",
    "    portfolio_value = 0\n",
    "    optimal_buy_indices = []\n",
    "    for i in range(1, len(states)):\n",
    "        if states[i] == 1 and states[i-1] == 0:\n",
    "            portfolio_value += 1\n",
    "            optimal_buy_indices.append(i)\n",
    "        elif states[i] == -1 and states[i-1] == 0:\n",
    "            portfolio_value -= 1\n",
    "    return portfolio_value, optimal_buy_indices\n",
    "\n",
    "\n",
    "price_history = np.array(df[\"FIBBG000B9XRY4\"])\n",
    "returns = calculate_returns(price_history)\n",
    "states = state_classification(returns)\n",
    "portfolio_value, optimal_buy_indices = value_function(states)\n",
    "print(\"Optimal Buy Indices:\", optimal_buy_indices)\n"
   ]
  },
  {
   "cell_type": "markdown",
   "id": "0bf76f51-235d-4fc3-809d-37f1edca5455",
   "metadata": {},
   "source": [
    "**Time Series Model**"
   ]
  },
  {
   "cell_type": "code",
   "execution_count": 99,
   "id": "30eba483-848d-4b61-b14a-3a9eb2cc0326",
   "metadata": {
    "tags": []
   },
   "outputs": [
    {
     "name": "stdout",
     "output_type": "stream",
     "text": [
      "                               SARIMAX Results                                \n",
      "==============================================================================\n",
      "Dep. Variable:         FIBBG000B9XRY4   No. Observations:                  250\n",
      "Model:                 ARIMA(5, 1, 0)   Log Likelihood                -539.139\n",
      "Date:                Tue, 12 Mar 2024   AIC                           1090.278\n",
      "Time:                        15:29:58   BIC                           1111.383\n",
      "Sample:                             0   HQIC                          1098.773\n",
      "                                - 250                                         \n",
      "Covariance Type:                  opg                                         \n",
      "==============================================================================\n",
      "                 coef    std err          z      P>|z|      [0.025      0.975]\n",
      "------------------------------------------------------------------------------\n",
      "ar.L1          0.0781      0.065      1.193      0.233      -0.050       0.206\n",
      "ar.L2         -0.0056      0.070     -0.080      0.936      -0.142       0.131\n",
      "ar.L3          0.0874      0.068      1.289      0.197      -0.046       0.220\n",
      "ar.L4         -0.0250      0.066     -0.380      0.704      -0.154       0.104\n",
      "ar.L5         -0.0589      0.067     -0.873      0.383      -0.191       0.073\n",
      "sigma2         4.4476      0.316     14.090      0.000       3.829       5.066\n",
      "===================================================================================\n",
      "Ljung-Box (L1) (Q):                   0.04   Jarque-Bera (JB):                31.05\n",
      "Prob(Q):                              0.83   Prob(JB):                         0.00\n",
      "Heteroskedasticity (H):               0.92   Skew:                            -0.17\n",
      "Prob(H) (two-sided):                  0.72   Kurtosis:                         4.70\n",
      "===================================================================================\n",
      "\n",
      "Warnings:\n",
      "[1] Covariance matrix calculated using the outer product of gradients (complex-step).\n"
     ]
    },
    {
     "name": "stderr",
     "output_type": "stream",
     "text": [
      "/opt/conda/lib/python3.9/site-packages/statsmodels/tsa/base/tsa_model.py:471: ValueWarning:\n",
      "\n",
      "A date index has been provided, but it has no associated frequency information and so will be ignored when e.g. forecasting.\n",
      "\n",
      "/opt/conda/lib/python3.9/site-packages/statsmodels/tsa/base/tsa_model.py:471: ValueWarning:\n",
      "\n",
      "A date index has been provided, but it has no associated frequency information and so will be ignored when e.g. forecasting.\n",
      "\n",
      "/opt/conda/lib/python3.9/site-packages/statsmodels/tsa/base/tsa_model.py:471: ValueWarning:\n",
      "\n",
      "A date index has been provided, but it has no associated frequency information and so will be ignored when e.g. forecasting.\n",
      "\n"
     ]
    }
   ],
   "source": [
    "from statsmodels.tsa.arima.model import ARIMA\n",
    "\n",
    "time_series_data = prices['FIBBG000B9XRY4']['Close']\n",
    "\n",
    "model = ARIMA(time_series_data, order=(5, 1, 0))\n",
    "model_fit = model.fit()\n",
    "\n",
    "print(model_fit.summary())"
   ]
  },
  {
   "cell_type": "code",
   "execution_count": 100,
   "id": "ecea351e-22c4-4bdc-a6cc-0b776006f96f",
   "metadata": {
    "tags": []
   },
   "outputs": [],
   "source": [
    "prices = get_prices(\"usstock-free-1d\", sids=\"FIBBG000B9XRY4\", start_date=\"2023-01-01\", end_date=\"2023-12-31\", fields=[\"Close\"])"
   ]
  },
  {
   "cell_type": "code",
   "execution_count": 101,
   "id": "01d956a1-9ba5-47a4-9d42-4b52f65f8b3f",
   "metadata": {
    "tags": []
   },
   "outputs": [
    {
     "data": {
      "text/html": [
       "<div>\n",
       "<style scoped>\n",
       "    .dataframe tbody tr th:only-of-type {\n",
       "        vertical-align: middle;\n",
       "    }\n",
       "\n",
       "    .dataframe tbody tr th {\n",
       "        vertical-align: top;\n",
       "    }\n",
       "\n",
       "    .dataframe thead th {\n",
       "        text-align: right;\n",
       "    }\n",
       "</style>\n",
       "<table border=\"1\" class=\"dataframe\">\n",
       "  <thead>\n",
       "    <tr style=\"text-align: right;\">\n",
       "      <th></th>\n",
       "      <th>Sid</th>\n",
       "      <th>FIBBG000B9XRY4</th>\n",
       "    </tr>\n",
       "    <tr>\n",
       "      <th>Field</th>\n",
       "      <th>Date</th>\n",
       "      <th></th>\n",
       "    </tr>\n",
       "  </thead>\n",
       "  <tbody>\n",
       "    <tr>\n",
       "      <th rowspan=\"5\" valign=\"top\">Close</th>\n",
       "      <th>2023-01-03</th>\n",
       "      <td>124.2163</td>\n",
       "    </tr>\n",
       "    <tr>\n",
       "      <th>2023-01-04</th>\n",
       "      <td>125.4975</td>\n",
       "    </tr>\n",
       "    <tr>\n",
       "      <th>2023-01-05</th>\n",
       "      <td>124.1666</td>\n",
       "    </tr>\n",
       "    <tr>\n",
       "      <th>2023-01-06</th>\n",
       "      <td>128.7352</td>\n",
       "    </tr>\n",
       "    <tr>\n",
       "      <th>2023-01-09</th>\n",
       "      <td>129.2616</td>\n",
       "    </tr>\n",
       "  </tbody>\n",
       "</table>\n",
       "</div>"
      ],
      "text/plain": [
       "Sid               FIBBG000B9XRY4\n",
       "Field Date                      \n",
       "Close 2023-01-03        124.2163\n",
       "      2023-01-04        125.4975\n",
       "      2023-01-05        124.1666\n",
       "      2023-01-06        128.7352\n",
       "      2023-01-09        129.2616"
      ]
     },
     "execution_count": 101,
     "metadata": {},
     "output_type": "execute_result"
    }
   ],
   "source": [
    "prices.head()"
   ]
  },
  {
   "cell_type": "code",
   "execution_count": 102,
   "id": "b6f3ef22-15db-44c8-ae3d-6c841be6195c",
   "metadata": {
    "tags": []
   },
   "outputs": [
    {
     "name": "stdout",
     "output_type": "stream",
     "text": [
      "Forecasted Values:\n",
      "250    192.286329\n",
      "251    192.359693\n",
      "252    192.257119\n",
      "253    192.249773\n",
      "254    192.317910\n",
      "255    192.312368\n",
      "256    192.309157\n",
      "257    192.321119\n",
      "258    192.320316\n",
      "259    192.316031\n",
      "260    192.317154\n",
      "261    192.317085\n",
      "262    192.316014\n",
      "263    192.316184\n",
      "264    192.316421\n",
      "265    192.316281\n",
      "266    192.316314\n",
      "267    192.316397\n",
      "268    192.316375\n",
      "269    192.316365\n",
      "270    192.316379\n",
      "271    192.316375\n",
      "272    192.316369\n",
      "273    192.316371\n",
      "274    192.316371\n",
      "275    192.316370\n",
      "276    192.316371\n",
      "277    192.316371\n",
      "278    192.316371\n",
      "279    192.316371\n",
      "Name: predicted_mean, dtype: float64\n",
      "\n",
      "Portfolio Value based on Forecasted Values:\n",
      "5769.378125107039\n"
     ]
    },
    {
     "name": "stderr",
     "output_type": "stream",
     "text": [
      "/opt/conda/lib/python3.9/site-packages/statsmodels/tsa/base/tsa_model.py:471: ValueWarning:\n",
      "\n",
      "A date index has been provided, but it has no associated frequency information and so will be ignored when e.g. forecasting.\n",
      "\n",
      "/opt/conda/lib/python3.9/site-packages/statsmodels/tsa/base/tsa_model.py:471: ValueWarning:\n",
      "\n",
      "A date index has been provided, but it has no associated frequency information and so will be ignored when e.g. forecasting.\n",
      "\n",
      "/opt/conda/lib/python3.9/site-packages/statsmodels/tsa/base/tsa_model.py:471: ValueWarning:\n",
      "\n",
      "A date index has been provided, but it has no associated frequency information and so will be ignored when e.g. forecasting.\n",
      "\n",
      "/opt/conda/lib/python3.9/site-packages/statsmodels/tsa/base/tsa_model.py:834: ValueWarning:\n",
      "\n",
      "No supported index is available. Prediction results will be given with an integer index beginning at `start`.\n",
      "\n",
      "/opt/conda/lib/python3.9/site-packages/statsmodels/tsa/base/tsa_model.py:834: DeprecationWarning:\n",
      "\n",
      "No supported index is available. In the next version, calling this method in a model without a supported index will result in an exception.\n",
      "\n"
     ]
    }
   ],
   "source": [
    "df.reset_index(inplace=True)\n",
    "df['Date'] = pd.to_datetime(df['Date'])\n",
    "df.set_index('Date', inplace=True)\n",
    "\n",
    "# Fit ARIMA model\n",
    "model = ARIMA(df[\"FIBBG000B9XRY4\"], order=(5, 1, 0))\n",
    "model_fit = model.fit()\n",
    "\n",
    "# Forecast future values\n",
    "forecast = model_fit.forecast(steps=30)\n",
    "\n",
    "# Calculate portfolio value based on forecasted values\n",
    "portfolio_value = np.sum(forecast)\n",
    "print(\"Forecasted Values:\")\n",
    "print(forecast)\n",
    "print(\"\\nPortfolio Value based on Forecasted Values:\")\n",
    "print(portfolio_value)"
   ]
  },
  {
   "cell_type": "markdown",
   "id": "378f3f69-89da-4704-b2df-873f7b1f8c66",
   "metadata": {},
   "source": [
    "**Forecasting Using ARIMA**"
   ]
  },
  {
   "cell_type": "code",
   "execution_count": 103,
   "id": "c9b5e8d3-d8c1-4c3c-ac46-02ac6a3739c2",
   "metadata": {
    "tags": []
   },
   "outputs": [
    {
     "data": {
      "image/png": "[encoded data removed]",
      "text/plain": [
       "<Figure size 720x432 with 1 Axes>"
      ]
     },
     "metadata": {},
     "output_type": "display_data"
    }
   ],
   "source": [
    "import matplotlib.pyplot as plt\n",
    "\n",
    "plt.figure(figsize=(10, 6))\n",
    "\n",
    "plt.plot(df.index, df[\"FIBBG000B9XRY4\"], label='Original Data', color='blue')\n",
    "\n",
    "forecast_index = pd.date_range(start=df.index[-1], periods=31, freq='D')[1:]\n",
    "plt.plot(df.index[-1:].append(forecast_index), df[\"FIBBG000B9XRY4\"].iloc[-1:].append(forecast), label='Forecasted Values', color='red')\n",
    "\n",
    "plt.title('ARIMA Forecasting')\n",
    "plt.xlabel('Date')\n",
    "plt.ylabel('Values')\n",
    "plt.legend()\n",
    "plt.show()"
   ]
  },
  {
   "cell_type": "markdown",
   "id": "d63d18b5-3f0b-4a9f-9926-6cba2fec9c47",
   "metadata": {},
   "source": [
    "**Forecasting Values using LinearRegression**"
   ]
  },
  {
   "cell_type": "code",
   "execution_count": 114,
   "id": "6f18b0c7-3522-4acb-ae8e-5cee511c795b",
   "metadata": {
    "tags": []
   },
   "outputs": [],
   "source": [
    "import pandas as pd\n",
    "import numpy as np\n",
    "from sklearn.linear_model import LinearRegression\n",
    "from sklearn.preprocessing import PolynomialFeatures\n",
    "from datetime import datetime, timedelta\n",
    "import numpy as np"
   ]
  },
  {
   "cell_type": "code",
   "execution_count": 120,
   "id": "c140ddfd-9ed1-4071-9276-9bab66caedcf",
   "metadata": {
    "tags": []
   },
   "outputs": [
    {
     "name": "stdout",
     "output_type": "stream",
     "text": [
      "         Date  Predicted Close Price\n",
      "0  2024-01-01             122.111790\n",
      "1  2024-01-02             122.818875\n",
      "2  2024-01-03             123.520069\n",
      "3  2024-01-04             124.215399\n",
      "4  2024-01-05             124.904890\n",
      "5  2024-01-08             126.938582\n",
      "6  2024-01-09             127.604971\n",
      "7  2024-01-10             128.265648\n",
      "8  2024-01-11             128.920637\n",
      "9  2024-01-12             129.569966\n",
      "10 2024-01-15             131.484239\n",
      "11 2024-01-16             132.111177\n",
      "12 2024-01-17             132.732581\n",
      "13 2024-01-18             133.348476\n",
      "14 2024-01-19             133.958888\n"
     ]
    },
    {
     "name": "stderr",
     "output_type": "stream",
     "text": [
      "/opt/conda/lib/python3.9/site-packages/sklearn/base.py:450: UserWarning:\n",
      "\n",
      "X does not have valid feature names, but PolynomialFeatures was fitted with feature names\n",
      "\n"
     ]
    }
   ],
   "source": [
    "df = pd.read_csv('stock_prices.csv')\n",
    "df.rename(columns={'FIBBG000B9XRY4': 'close price'}, inplace=True)\n",
    "df['Date'] = pd.to_datetime(df['Date'])\n",
    "df['DayOfYear'] = df['Date'].dt.dayofyear\n",
    "\n",
    "n = 15\n",
    "\n",
    "\n",
    "X = df[['DayOfYear']]\n",
    "y = df['close price']\n",
    "\n",
    "\n",
    "poly = PolynomialFeatures(degree=3)\n",
    "X_poly = poly.fit_transform(X)\n",
    "\n",
    "model = LinearRegression()\n",
    "model.fit(X_poly, y)\n",
    "\n",
    "last_day = df['Date'].iloc[-1]\n",
    "\n",
    "def add_trading_days(start_date, num_days):\n",
    "    trading_days = []\n",
    "    while len(trading_days) < num_days:\n",
    "        start_date += timedelta(days=1)\n",
    "        if start_date.weekday() < 5: \n",
    "            trading_days.append(start_date)\n",
    "    return trading_days\n",
    "\n",
    "new_dates = add_trading_days(last_day, n)\n",
    "new_day_of_year = [(date.timetuple().tm_yday) for date in new_dates]\n",
    "new_X_poly = poly.transform(np.array(new_day_of_year).reshape(-1, 1))\n",
    "\n",
    "predictions = model.predict(new_X_poly)\n",
    "\n",
    "\n",
    "predictions_df = pd.DataFrame({'Date': new_dates, 'Predicted Close Price': predictions})\n",
    "print(predictions_df)"
   ]
  },
  {
   "cell_type": "markdown",
   "id": "d176b8d7-6e06-4b67-8206-71df6e9f8673",
   "metadata": {},
   "source": [
    "**Finding the optimal Buy Indices and portfolio value after forecasting**"
   ]
  },
  {
   "cell_type": "code",
   "execution_count": 121,
   "id": "ea28a413-f469-4ec6-8b22-7beba9185b86",
   "metadata": {
    "tags": []
   },
   "outputs": [
    {
     "name": "stdout",
     "output_type": "stream",
     "text": [
      "Final portfolio value: V(N) = 2\n",
      "\n",
      "Optimal buy indices: [5, 10]\n",
      "\n",
      "Transition Probabilities Matrix:\n",
      "From To\tBear\tFlat\tBull\t\n",
      "Bear\t0.00\t1.00\t0.00\t\n",
      "Flat\t0.00\t0.82\t0.18\t\n",
      "Bull\t0.00\t1.00\t0.00\t\n"
     ]
    }
   ],
   "source": [
    "def classify_state(returns):\n",
    "    states = np.where(returns >= 0.01, 1, np.where(returns > -0.01, 0, -1))\n",
    "    return states\n",
    "\n",
    "def calculate_transition_probabilities(states):\n",
    "    transitions = np.zeros((3, 3))  # 3x3 matrix for state transitions\n",
    "    for i in range(1, len(states)):\n",
    "        transitions[states[i-1] + 1, states[i] + 1] += 1\n",
    "    \n",
    "    row_sums = transitions.sum(axis=1, keepdims=True)\n",
    "    row_sums[row_sums == 0] = 1\n",
    "    probabilities = transitions / row_sums\n",
    "    return probabilities\n",
    "\n",
    "\n",
    "def calculate_value_function_and_decisions(states):\n",
    "    V = [0] \n",
    "    buy_indices = []\n",
    "    for i in range(1, len(states)):\n",
    "        if states[i] == 1 and states[i-1] == 0:\n",
    "            V.append(V[-1] + 1)\n",
    "            buy_indices.append(i) \n",
    "        elif states[i] == -1 and states[i-1] == 0:\n",
    "            V.append(V[-1] - 1)\n",
    "        else:\n",
    "            V.append(V[-1])\n",
    "    return V, buy_indices\n",
    "\n",
    "def print_transition_probabilities_with_labels(probabilities):\n",
    "    state_labels = ['Bear', 'Flat', 'Bull']  \n",
    "    print(\"Transition Probabilities Matrix:\")\n",
    "    print(\"From To\", end=\"\\t\")\n",
    "    for label in state_labels:\n",
    "        print(label, end=\"\\t\")\n",
    "    print()  \n",
    "    for i, row in enumerate(probabilities):\n",
    "        print(state_labels[i], end=\"\\t\")\n",
    "        for prob in row:\n",
    "            print(f\"{prob:.2f}\", end=\"\\t\") \n",
    "        print() \n",
    "\n",
    "df.sort_values('Date', inplace=True)\n",
    "\n",
    "predictions_df.loc[:, 'Daily Returns'] = predictions_df['Predicted Close Price'].pct_change()\n",
    "returns = predictions_df['Daily Returns']\n",
    "states = classify_state(returns)\n",
    "transition_probabilities = calculate_transition_probabilities(states)\n",
    "V, buy_indices = calculate_value_function_and_decisions(states)\n",
    "\n",
    "print(f\"Final portfolio value: V(N) = {V[-1]}\")\n",
    "print()\n",
    "print(f\"Optimal buy indices: {buy_indices}\")\n",
    "print()\n",
    "\n",
    "print_transition_probabilities_with_labels(transition_probabilities)"
   ]
  },
  {
   "cell_type": "code",
   "execution_count": null,
   "id": "2073a3dc-b0c5-4f74-b7cc-a17984e46812",
   "metadata": {},
   "outputs": [],
   "source": []
  }
 ],
 "metadata": {
  "kernelspec": {
   "display_name": "Python 3.9",
   "language": "python",
   "name": "python3"
  },
  "language_info": {
   "codemirror_mode": {
    "name": "ipython",
    "version": 3
   },
   "file_extension": ".py",
   "mimetype": "text/x-python",
   "name": "python",
   "nbconvert_exporter": "python",
   "pygments_lexer": "ipython3",
   "version": "3.9.12"
  }
 },
 "nbformat": 4,
 "nbformat_minor": 5
}
